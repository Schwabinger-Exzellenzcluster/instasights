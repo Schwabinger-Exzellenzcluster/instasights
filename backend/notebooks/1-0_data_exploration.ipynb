{
 "cells": [
  {
   "cell_type": "markdown",
   "id": "f924b458-3689-4fba-917a-20c1e91ce052",
   "metadata": {},
   "source": [
    "# 1.0 Data Exploration\n",
    "## Disclaimer: \n",
    "If you are not familiar with `Pandas` have a look at the [Pandas in 10 min Tutorial](https://pandas.pydata.org/pandas-docs/stable/user_guide/10min.html) before you continue. For those who already know `Pandas` but are still interested in freshing up their skills look at the [Pandas Cookbook](https://pandas.pydata.org/pandas-docs/stable/user_guide/cookbook.html)."
   ]
  },
  {
   "cell_type": "markdown",
   "id": "aa0324fc-3f79-4edd-9af0-e1b0c847644a",
   "metadata": {},
   "source": [
    "## Imports"
   ]
  },
  {
   "cell_type": "code",
   "execution_count": 1,
   "id": "b52e3097-5991-4f35-8ecc-63cf23fc1289",
   "metadata": {},
   "outputs": [],
   "source": [
    "import pandas as pd\n",
    "from matplotlib import pyplot as plt"
   ]
  },
  {
   "cell_type": "markdown",
   "id": "57cb8fa7-0675-4c3c-9ff4-f979ea10cf3b",
   "metadata": {},
   "source": [
    "## Load the data set\n",
    "First let's load the diffent files of our datase. "
   ]
  },
  {
   "cell_type": "markdown",
   "id": "2f68a808-acca-4cb6-aaae-6cd751ad73ff",
   "metadata": {},
   "source": [
    "### Stores\n",
    "The describing statistics show us, that we have 144 unique stores, across 37 cities, and 4 different store types. "
   ]
  },
  {
   "cell_type": "code",
   "execution_count": 2,
   "id": "a45899ae-92ee-4fb0-9a73-ffd564b36f18",
   "metadata": {},
   "outputs": [
    {
     "data": {
      "text/plain": [
       "'Data'"
      ]
     },
     "metadata": {},
     "output_type": "display_data"
    },
    {
     "data": {
      "text/html": [
       "<div>\n",
       "<style scoped>\n",
       "    .dataframe tbody tr th:only-of-type {\n",
       "        vertical-align: middle;\n",
       "    }\n",
       "\n",
       "    .dataframe tbody tr th {\n",
       "        vertical-align: top;\n",
       "    }\n",
       "\n",
       "    .dataframe thead th {\n",
       "        text-align: right;\n",
       "    }\n",
       "</style>\n",
       "<table border=\"1\" class=\"dataframe\">\n",
       "  <thead>\n",
       "    <tr style=\"text-align: right;\">\n",
       "      <th></th>\n",
       "      <th>store_id</th>\n",
       "      <th>storetype_id</th>\n",
       "      <th>store_size</th>\n",
       "      <th>city_id</th>\n",
       "    </tr>\n",
       "  </thead>\n",
       "  <tbody>\n",
       "    <tr>\n",
       "      <th>0</th>\n",
       "      <td>S0091</td>\n",
       "      <td>ST04</td>\n",
       "      <td>19</td>\n",
       "      <td>C013</td>\n",
       "    </tr>\n",
       "    <tr>\n",
       "      <th>1</th>\n",
       "      <td>S0012</td>\n",
       "      <td>ST04</td>\n",
       "      <td>28</td>\n",
       "      <td>C005</td>\n",
       "    </tr>\n",
       "    <tr>\n",
       "      <th>2</th>\n",
       "      <td>S0045</td>\n",
       "      <td>ST04</td>\n",
       "      <td>17</td>\n",
       "      <td>C008</td>\n",
       "    </tr>\n",
       "    <tr>\n",
       "      <th>3</th>\n",
       "      <td>S0032</td>\n",
       "      <td>ST03</td>\n",
       "      <td>14</td>\n",
       "      <td>C019</td>\n",
       "    </tr>\n",
       "    <tr>\n",
       "      <th>4</th>\n",
       "      <td>S0027</td>\n",
       "      <td>ST04</td>\n",
       "      <td>24</td>\n",
       "      <td>C022</td>\n",
       "    </tr>\n",
       "  </tbody>\n",
       "</table>\n",
       "</div>"
      ],
      "text/plain": [
       "  store_id storetype_id  store_size city_id\n",
       "0    S0091         ST04          19    C013\n",
       "1    S0012         ST04          28    C005\n",
       "2    S0045         ST04          17    C008\n",
       "3    S0032         ST03          14    C019\n",
       "4    S0027         ST04          24    C022"
      ]
     },
     "metadata": {},
     "output_type": "display_data"
    },
    {
     "data": {
      "text/plain": [
       "'Statistics for categorial variables:'"
      ]
     },
     "metadata": {},
     "output_type": "display_data"
    },
    {
     "data": {
      "text/html": [
       "<div>\n",
       "<style scoped>\n",
       "    .dataframe tbody tr th:only-of-type {\n",
       "        vertical-align: middle;\n",
       "    }\n",
       "\n",
       "    .dataframe tbody tr th {\n",
       "        vertical-align: top;\n",
       "    }\n",
       "\n",
       "    .dataframe thead th {\n",
       "        text-align: right;\n",
       "    }\n",
       "</style>\n",
       "<table border=\"1\" class=\"dataframe\">\n",
       "  <thead>\n",
       "    <tr style=\"text-align: right;\">\n",
       "      <th></th>\n",
       "      <th>store_id</th>\n",
       "      <th>storetype_id</th>\n",
       "      <th>city_id</th>\n",
       "    </tr>\n",
       "  </thead>\n",
       "  <tbody>\n",
       "    <tr>\n",
       "      <th>count</th>\n",
       "      <td>144</td>\n",
       "      <td>144</td>\n",
       "      <td>144</td>\n",
       "    </tr>\n",
       "    <tr>\n",
       "      <th>unique</th>\n",
       "      <td>144</td>\n",
       "      <td>4</td>\n",
       "      <td>37</td>\n",
       "    </tr>\n",
       "    <tr>\n",
       "      <th>top</th>\n",
       "      <td>S0001</td>\n",
       "      <td>ST04</td>\n",
       "      <td>C014</td>\n",
       "    </tr>\n",
       "    <tr>\n",
       "      <th>freq</th>\n",
       "      <td>1</td>\n",
       "      <td>83</td>\n",
       "      <td>32</td>\n",
       "    </tr>\n",
       "  </tbody>\n",
       "</table>\n",
       "</div>"
      ],
      "text/plain": [
       "       store_id storetype_id city_id\n",
       "count       144          144     144\n",
       "unique      144            4      37\n",
       "top       S0001         ST04    C014\n",
       "freq          1           83      32"
      ]
     },
     "metadata": {},
     "output_type": "display_data"
    },
    {
     "data": {
      "text/plain": [
       "'Statistics for numeric variables:'"
      ]
     },
     "metadata": {},
     "output_type": "display_data"
    },
    {
     "data": {
      "text/html": [
       "<div>\n",
       "<style scoped>\n",
       "    .dataframe tbody tr th:only-of-type {\n",
       "        vertical-align: middle;\n",
       "    }\n",
       "\n",
       "    .dataframe tbody tr th {\n",
       "        vertical-align: top;\n",
       "    }\n",
       "\n",
       "    .dataframe thead th {\n",
       "        text-align: right;\n",
       "    }\n",
       "</style>\n",
       "<table border=\"1\" class=\"dataframe\">\n",
       "  <thead>\n",
       "    <tr style=\"text-align: right;\">\n",
       "      <th></th>\n",
       "      <th>store_size</th>\n",
       "    </tr>\n",
       "  </thead>\n",
       "  <tbody>\n",
       "    <tr>\n",
       "      <th>count</th>\n",
       "      <td>144.000000</td>\n",
       "    </tr>\n",
       "    <tr>\n",
       "      <th>mean</th>\n",
       "      <td>23.847222</td>\n",
       "    </tr>\n",
       "    <tr>\n",
       "      <th>std</th>\n",
       "      <td>13.040185</td>\n",
       "    </tr>\n",
       "    <tr>\n",
       "      <th>min</th>\n",
       "      <td>6.000000</td>\n",
       "    </tr>\n",
       "    <tr>\n",
       "      <th>25%</th>\n",
       "      <td>15.000000</td>\n",
       "    </tr>\n",
       "    <tr>\n",
       "      <th>50%</th>\n",
       "      <td>19.500000</td>\n",
       "    </tr>\n",
       "    <tr>\n",
       "      <th>75%</th>\n",
       "      <td>28.250000</td>\n",
       "    </tr>\n",
       "    <tr>\n",
       "      <th>max</th>\n",
       "      <td>86.000000</td>\n",
       "    </tr>\n",
       "  </tbody>\n",
       "</table>\n",
       "</div>"
      ],
      "text/plain": [
       "       store_size\n",
       "count  144.000000\n",
       "mean    23.847222\n",
       "std     13.040185\n",
       "min      6.000000\n",
       "25%     15.000000\n",
       "50%     19.500000\n",
       "75%     28.250000\n",
       "max     86.000000"
      ]
     },
     "metadata": {},
     "output_type": "display_data"
    }
   ],
   "source": [
    "# Load from csv\n",
    "df_stores = pd.read_csv('../dataset/turkish_retail_data/store_cities.csv', \n",
    "                        delimiter=',', \n",
    "                        dtype={'store_id':'category',\n",
    "                               'storetype_id':'category',\n",
    "                               'city_id':'category'})\n",
    "\n",
    "# Display data and stats\n",
    "display('Data', df_stores.head())\n",
    "display('Statistics for categorial variables:', df_stores[['store_id', 'storetype_id', 'city_id']].describe())\n",
    "display('Statistics for numeric variables:', df_stores.describe())"
   ]
  },
  {
   "cell_type": "markdown",
   "id": "a1a18cf6-aeb5-4863-ac3c-a806e21bf2aa",
   "metadata": {},
   "source": [
    "### Product hierachy\n",
    "We see that we have 699 unique products, 649 labeld with 1 of 10 possible assigned clusters, 4 different product categories in hierachy level 1 and so on... "
   ]
  },
  {
   "cell_type": "code",
   "execution_count": 13,
   "id": "a99d3acc-aa61-44e3-84dd-b3093d0b6925",
   "metadata": {},
   "outputs": [
    {
     "data": {
      "text/plain": [
       "'Data'"
      ]
     },
     "metadata": {},
     "output_type": "display_data"
    },
    {
     "data": {
      "text/html": [
       "<div>\n",
       "<style scoped>\n",
       "    .dataframe tbody tr th:only-of-type {\n",
       "        vertical-align: middle;\n",
       "    }\n",
       "\n",
       "    .dataframe tbody tr th {\n",
       "        vertical-align: top;\n",
       "    }\n",
       "\n",
       "    .dataframe thead th {\n",
       "        text-align: right;\n",
       "    }\n",
       "</style>\n",
       "<table border=\"1\" class=\"dataframe\">\n",
       "  <thead>\n",
       "    <tr style=\"text-align: right;\">\n",
       "      <th></th>\n",
       "      <th>product_id</th>\n",
       "      <th>product_length</th>\n",
       "      <th>product_depth</th>\n",
       "      <th>product_width</th>\n",
       "      <th>cluster_id</th>\n",
       "      <th>hierarchy1_id</th>\n",
       "      <th>hierarchy2_id</th>\n",
       "      <th>hierarchy3_id</th>\n",
       "      <th>hierarchy4_id</th>\n",
       "      <th>hierarchy5_id</th>\n",
       "    </tr>\n",
       "  </thead>\n",
       "  <tbody>\n",
       "    <tr>\n",
       "      <th>0</th>\n",
       "      <td>P0000</td>\n",
       "      <td>5.0</td>\n",
       "      <td>20.0</td>\n",
       "      <td>12.0</td>\n",
       "      <td>NaN</td>\n",
       "      <td>H00</td>\n",
       "      <td>H0004</td>\n",
       "      <td>H000401</td>\n",
       "      <td>H00040105</td>\n",
       "      <td>H0004010534</td>\n",
       "    </tr>\n",
       "    <tr>\n",
       "      <th>1</th>\n",
       "      <td>P0001</td>\n",
       "      <td>13.5</td>\n",
       "      <td>22.0</td>\n",
       "      <td>20.0</td>\n",
       "      <td>cluster_5</td>\n",
       "      <td>H01</td>\n",
       "      <td>H0105</td>\n",
       "      <td>H010501</td>\n",
       "      <td>H01050100</td>\n",
       "      <td>H0105010006</td>\n",
       "    </tr>\n",
       "    <tr>\n",
       "      <th>2</th>\n",
       "      <td>P0002</td>\n",
       "      <td>22.0</td>\n",
       "      <td>40.0</td>\n",
       "      <td>22.0</td>\n",
       "      <td>cluster_0</td>\n",
       "      <td>H03</td>\n",
       "      <td>H0315</td>\n",
       "      <td>H031508</td>\n",
       "      <td>H03150800</td>\n",
       "      <td>H0315080028</td>\n",
       "    </tr>\n",
       "    <tr>\n",
       "      <th>3</th>\n",
       "      <td>P0004</td>\n",
       "      <td>2.0</td>\n",
       "      <td>13.0</td>\n",
       "      <td>4.0</td>\n",
       "      <td>cluster_3</td>\n",
       "      <td>H03</td>\n",
       "      <td>H0314</td>\n",
       "      <td>H031405</td>\n",
       "      <td>H03140500</td>\n",
       "      <td>H0314050003</td>\n",
       "    </tr>\n",
       "    <tr>\n",
       "      <th>4</th>\n",
       "      <td>P0005</td>\n",
       "      <td>16.0</td>\n",
       "      <td>30.0</td>\n",
       "      <td>16.0</td>\n",
       "      <td>cluster_9</td>\n",
       "      <td>H03</td>\n",
       "      <td>H0312</td>\n",
       "      <td>H031211</td>\n",
       "      <td>H03121109</td>\n",
       "      <td>H0312110917</td>\n",
       "    </tr>\n",
       "  </tbody>\n",
       "</table>\n",
       "</div>"
      ],
      "text/plain": [
       "  product_id  product_length  product_depth  product_width cluster_id  \\\n",
       "0      P0000             5.0           20.0           12.0        NaN   \n",
       "1      P0001            13.5           22.0           20.0  cluster_5   \n",
       "2      P0002            22.0           40.0           22.0  cluster_0   \n",
       "3      P0004             2.0           13.0            4.0  cluster_3   \n",
       "4      P0005            16.0           30.0           16.0  cluster_9   \n",
       "\n",
       "  hierarchy1_id hierarchy2_id hierarchy3_id hierarchy4_id hierarchy5_id  \n",
       "0           H00         H0004       H000401     H00040105   H0004010534  \n",
       "1           H01         H0105       H010501     H01050100   H0105010006  \n",
       "2           H03         H0315       H031508     H03150800   H0315080028  \n",
       "3           H03         H0314       H031405     H03140500   H0314050003  \n",
       "4           H03         H0312       H031211     H03121109   H0312110917  "
      ]
     },
     "metadata": {},
     "output_type": "display_data"
    },
    {
     "data": {
      "text/plain": [
       "'Statistics for categorial variables:'"
      ]
     },
     "metadata": {},
     "output_type": "display_data"
    },
    {
     "data": {
      "text/html": [
       "<div>\n",
       "<style scoped>\n",
       "    .dataframe tbody tr th:only-of-type {\n",
       "        vertical-align: middle;\n",
       "    }\n",
       "\n",
       "    .dataframe tbody tr th {\n",
       "        vertical-align: top;\n",
       "    }\n",
       "\n",
       "    .dataframe thead th {\n",
       "        text-align: right;\n",
       "    }\n",
       "</style>\n",
       "<table border=\"1\" class=\"dataframe\">\n",
       "  <thead>\n",
       "    <tr style=\"text-align: right;\">\n",
       "      <th></th>\n",
       "      <th>product_id</th>\n",
       "      <th>cluster_id</th>\n",
       "      <th>hierarchy1_id</th>\n",
       "      <th>hierarchy2_id</th>\n",
       "      <th>hierarchy3_id</th>\n",
       "      <th>hierarchy4_id</th>\n",
       "      <th>hierarchy5_id</th>\n",
       "    </tr>\n",
       "  </thead>\n",
       "  <tbody>\n",
       "    <tr>\n",
       "      <th>count</th>\n",
       "      <td>699</td>\n",
       "      <td>649</td>\n",
       "      <td>699</td>\n",
       "      <td>699</td>\n",
       "      <td>699</td>\n",
       "      <td>699</td>\n",
       "      <td>699</td>\n",
       "    </tr>\n",
       "    <tr>\n",
       "      <th>unique</th>\n",
       "      <td>699</td>\n",
       "      <td>10</td>\n",
       "      <td>4</td>\n",
       "      <td>18</td>\n",
       "      <td>79</td>\n",
       "      <td>168</td>\n",
       "      <td>373</td>\n",
       "    </tr>\n",
       "    <tr>\n",
       "      <th>top</th>\n",
       "      <td>P0000</td>\n",
       "      <td>cluster_0</td>\n",
       "      <td>H03</td>\n",
       "      <td>H0313</td>\n",
       "      <td>H031302</td>\n",
       "      <td>H00031200</td>\n",
       "      <td>H0313020501</td>\n",
       "    </tr>\n",
       "    <tr>\n",
       "      <th>freq</th>\n",
       "      <td>1</td>\n",
       "      <td>450</td>\n",
       "      <td>292</td>\n",
       "      <td>101</td>\n",
       "      <td>39</td>\n",
       "      <td>18</td>\n",
       "      <td>8</td>\n",
       "    </tr>\n",
       "  </tbody>\n",
       "</table>\n",
       "</div>"
      ],
      "text/plain": [
       "       product_id cluster_id hierarchy1_id hierarchy2_id hierarchy3_id  \\\n",
       "count         699        649           699           699           699   \n",
       "unique        699         10             4            18            79   \n",
       "top         P0000  cluster_0           H03         H0313       H031302   \n",
       "freq            1        450           292           101            39   \n",
       "\n",
       "       hierarchy4_id hierarchy5_id  \n",
       "count            699           699  \n",
       "unique           168           373  \n",
       "top        H00031200   H0313020501  \n",
       "freq              18             8  "
      ]
     },
     "metadata": {},
     "output_type": "display_data"
    },
    {
     "data": {
      "text/plain": [
       "'Statistics for numeric variables:'"
      ]
     },
     "metadata": {},
     "output_type": "display_data"
    },
    {
     "data": {
      "text/html": [
       "<div>\n",
       "<style scoped>\n",
       "    .dataframe tbody tr th:only-of-type {\n",
       "        vertical-align: middle;\n",
       "    }\n",
       "\n",
       "    .dataframe tbody tr th {\n",
       "        vertical-align: top;\n",
       "    }\n",
       "\n",
       "    .dataframe thead th {\n",
       "        text-align: right;\n",
       "    }\n",
       "</style>\n",
       "<table border=\"1\" class=\"dataframe\">\n",
       "  <thead>\n",
       "    <tr style=\"text-align: right;\">\n",
       "      <th></th>\n",
       "      <th>product_length</th>\n",
       "      <th>product_depth</th>\n",
       "      <th>product_width</th>\n",
       "    </tr>\n",
       "  </thead>\n",
       "  <tbody>\n",
       "    <tr>\n",
       "      <th>count</th>\n",
       "      <td>681.000000</td>\n",
       "      <td>683.000000</td>\n",
       "      <td>683.000000</td>\n",
       "    </tr>\n",
       "    <tr>\n",
       "      <th>mean</th>\n",
       "      <td>7.232305</td>\n",
       "      <td>18.460908</td>\n",
       "      <td>13.454758</td>\n",
       "    </tr>\n",
       "    <tr>\n",
       "      <th>std</th>\n",
       "      <td>8.512507</td>\n",
       "      <td>14.269750</td>\n",
       "      <td>10.137132</td>\n",
       "    </tr>\n",
       "    <tr>\n",
       "      <th>min</th>\n",
       "      <td>0.000000</td>\n",
       "      <td>0.000000</td>\n",
       "      <td>0.000000</td>\n",
       "    </tr>\n",
       "    <tr>\n",
       "      <th>25%</th>\n",
       "      <td>3.000000</td>\n",
       "      <td>10.900000</td>\n",
       "      <td>7.450000</td>\n",
       "    </tr>\n",
       "    <tr>\n",
       "      <th>50%</th>\n",
       "      <td>5.000000</td>\n",
       "      <td>17.000000</td>\n",
       "      <td>10.800000</td>\n",
       "    </tr>\n",
       "    <tr>\n",
       "      <th>75%</th>\n",
       "      <td>8.000000</td>\n",
       "      <td>23.150000</td>\n",
       "      <td>16.000000</td>\n",
       "    </tr>\n",
       "    <tr>\n",
       "      <th>max</th>\n",
       "      <td>100.000000</td>\n",
       "      <td>165.000000</td>\n",
       "      <td>100.000000</td>\n",
       "    </tr>\n",
       "  </tbody>\n",
       "</table>\n",
       "</div>"
      ],
      "text/plain": [
       "       product_length  product_depth  product_width\n",
       "count      681.000000     683.000000     683.000000\n",
       "mean         7.232305      18.460908      13.454758\n",
       "std          8.512507      14.269750      10.137132\n",
       "min          0.000000       0.000000       0.000000\n",
       "25%          3.000000      10.900000       7.450000\n",
       "50%          5.000000      17.000000      10.800000\n",
       "75%          8.000000      23.150000      16.000000\n",
       "max        100.000000     165.000000     100.000000"
      ]
     },
     "metadata": {},
     "output_type": "display_data"
    }
   ],
   "source": [
    "# Load from csv\n",
    "df_product_hierachy = pd.read_csv('../dataset/turkish_retail_data/product_hierarchy.csv', \n",
    "                                 delimiter= ',',\n",
    "                                 dtype={'product_id':'category',\n",
    "                                        'cluster_id':'category',\n",
    "                                        'hierarchy1_id':'category',\n",
    "                                        'hierarchy2_id':'category',\n",
    "                                        'hierarchy3_id':'category',\n",
    "                                        'hierarchy4_id':'category',\n",
    "                                        'hierarchy5_id':'category'})\n",
    "\n",
    "# Display data and stats\n",
    "display('Data', df_product_hierachy.head())\n",
    "display('Statistics for categorial variables:', df_product_hierachy[['product_id',\n",
    "                                                                     'cluster_id',\n",
    "                                                                     'hierarchy1_id',\n",
    "                                                                     'hierarchy2_id',\n",
    "                                                                     'hierarchy3_id',\n",
    "                                                                     'hierarchy4_id',\n",
    "                                                                     'hierarchy5_id']].describe())\n",
    "display('Statistics for numeric variables:', df_product_hierachy.describe())"
   ]
  },
  {
   "cell_type": "markdown",
   "id": "cfcb0497-6fdc-429d-a901-caf4294078ef",
   "metadata": {},
   "source": [
    "### Sales\n",
    "Looking at the dataset, we see that the dataset cotains daily sales reports for each product. \\\n",
    "For example on `2017-01-02`, `1` item of product `P0001` has been sold at store `S0012`. This results in a total revenue of `5.30` and a remaining number of `0` items in stock left. "
   ]
  },
  {
   "cell_type": "code",
   "execution_count": 8,
   "id": "e6a60411-4f4d-4ebd-8195-aa51a4027928",
   "metadata": {},
   "outputs": [
    {
     "data": {
      "text/plain": [
       "'Data'"
      ]
     },
     "metadata": {},
     "output_type": "display_data"
    },
    {
     "data": {
      "text/html": [
       "<div>\n",
       "<style scoped>\n",
       "    .dataframe tbody tr th:only-of-type {\n",
       "        vertical-align: middle;\n",
       "    }\n",
       "\n",
       "    .dataframe tbody tr th {\n",
       "        vertical-align: top;\n",
       "    }\n",
       "\n",
       "    .dataframe thead th {\n",
       "        text-align: right;\n",
       "    }\n",
       "</style>\n",
       "<table border=\"1\" class=\"dataframe\">\n",
       "  <thead>\n",
       "    <tr style=\"text-align: right;\">\n",
       "      <th></th>\n",
       "      <th>product_id</th>\n",
       "      <th>store_id</th>\n",
       "      <th>date</th>\n",
       "      <th>sales</th>\n",
       "      <th>revenue</th>\n",
       "      <th>stock</th>\n",
       "      <th>price</th>\n",
       "      <th>promo_type_1</th>\n",
       "      <th>promo_bin_1</th>\n",
       "      <th>promo_type_2</th>\n",
       "      <th>promo_bin_2</th>\n",
       "      <th>promo_discount_2</th>\n",
       "      <th>promo_discount_type_2</th>\n",
       "    </tr>\n",
       "  </thead>\n",
       "  <tbody>\n",
       "    <tr>\n",
       "      <th>0</th>\n",
       "      <td>P0001</td>\n",
       "      <td>S0002</td>\n",
       "      <td>2017-01-02</td>\n",
       "      <td>0.0</td>\n",
       "      <td>0.00</td>\n",
       "      <td>8.0</td>\n",
       "      <td>6.25</td>\n",
       "      <td>PR14</td>\n",
       "      <td>NaN</td>\n",
       "      <td>PR03</td>\n",
       "      <td>NaN</td>\n",
       "      <td>NaN</td>\n",
       "      <td>NaN</td>\n",
       "    </tr>\n",
       "    <tr>\n",
       "      <th>1</th>\n",
       "      <td>P0001</td>\n",
       "      <td>S0012</td>\n",
       "      <td>2017-01-02</td>\n",
       "      <td>1.0</td>\n",
       "      <td>5.30</td>\n",
       "      <td>0.0</td>\n",
       "      <td>6.25</td>\n",
       "      <td>PR14</td>\n",
       "      <td>NaN</td>\n",
       "      <td>PR03</td>\n",
       "      <td>NaN</td>\n",
       "      <td>NaN</td>\n",
       "      <td>NaN</td>\n",
       "    </tr>\n",
       "    <tr>\n",
       "      <th>2</th>\n",
       "      <td>P0001</td>\n",
       "      <td>S0013</td>\n",
       "      <td>2017-01-02</td>\n",
       "      <td>2.0</td>\n",
       "      <td>10.59</td>\n",
       "      <td>0.0</td>\n",
       "      <td>6.25</td>\n",
       "      <td>PR14</td>\n",
       "      <td>NaN</td>\n",
       "      <td>PR03</td>\n",
       "      <td>NaN</td>\n",
       "      <td>NaN</td>\n",
       "      <td>NaN</td>\n",
       "    </tr>\n",
       "    <tr>\n",
       "      <th>3</th>\n",
       "      <td>P0001</td>\n",
       "      <td>S0023</td>\n",
       "      <td>2017-01-02</td>\n",
       "      <td>0.0</td>\n",
       "      <td>0.00</td>\n",
       "      <td>6.0</td>\n",
       "      <td>6.25</td>\n",
       "      <td>PR14</td>\n",
       "      <td>NaN</td>\n",
       "      <td>PR03</td>\n",
       "      <td>NaN</td>\n",
       "      <td>NaN</td>\n",
       "      <td>NaN</td>\n",
       "    </tr>\n",
       "    <tr>\n",
       "      <th>4</th>\n",
       "      <td>P0001</td>\n",
       "      <td>S0025</td>\n",
       "      <td>2017-01-02</td>\n",
       "      <td>0.0</td>\n",
       "      <td>0.00</td>\n",
       "      <td>1.0</td>\n",
       "      <td>6.25</td>\n",
       "      <td>PR14</td>\n",
       "      <td>NaN</td>\n",
       "      <td>PR03</td>\n",
       "      <td>NaN</td>\n",
       "      <td>NaN</td>\n",
       "      <td>NaN</td>\n",
       "    </tr>\n",
       "  </tbody>\n",
       "</table>\n",
       "</div>"
      ],
      "text/plain": [
       "  product_id store_id       date  sales  revenue  stock  price promo_type_1  \\\n",
       "0      P0001    S0002 2017-01-02    0.0     0.00    8.0   6.25         PR14   \n",
       "1      P0001    S0012 2017-01-02    1.0     5.30    0.0   6.25         PR14   \n",
       "2      P0001    S0013 2017-01-02    2.0    10.59    0.0   6.25         PR14   \n",
       "3      P0001    S0023 2017-01-02    0.0     0.00    6.0   6.25         PR14   \n",
       "4      P0001    S0025 2017-01-02    0.0     0.00    1.0   6.25         PR14   \n",
       "\n",
       "  promo_bin_1 promo_type_2 promo_bin_2 promo_discount_2 promo_discount_type_2  \n",
       "0         NaN         PR03         NaN              NaN                   NaN  \n",
       "1         NaN         PR03         NaN              NaN                   NaN  \n",
       "2         NaN         PR03         NaN              NaN                   NaN  \n",
       "3         NaN         PR03         NaN              NaN                   NaN  \n",
       "4         NaN         PR03         NaN              NaN                   NaN  "
      ]
     },
     "metadata": {},
     "output_type": "display_data"
    },
    {
     "data": {
      "text/plain": [
       "'Statistics for categorial variables:'"
      ]
     },
     "metadata": {},
     "output_type": "display_data"
    },
    {
     "data": {
      "text/html": [
       "<div>\n",
       "<style scoped>\n",
       "    .dataframe tbody tr th:only-of-type {\n",
       "        vertical-align: middle;\n",
       "    }\n",
       "\n",
       "    .dataframe tbody tr th {\n",
       "        vertical-align: top;\n",
       "    }\n",
       "\n",
       "    .dataframe thead th {\n",
       "        text-align: right;\n",
       "    }\n",
       "</style>\n",
       "<table border=\"1\" class=\"dataframe\">\n",
       "  <thead>\n",
       "    <tr style=\"text-align: right;\">\n",
       "      <th></th>\n",
       "      <th>product_id</th>\n",
       "      <th>store_id</th>\n",
       "      <th>promo_type_1</th>\n",
       "      <th>promo_bin_1</th>\n",
       "      <th>promo_type_2</th>\n",
       "      <th>promo_bin_2</th>\n",
       "      <th>promo_discount_2</th>\n",
       "      <th>promo_discount_type_2</th>\n",
       "    </tr>\n",
       "  </thead>\n",
       "  <tbody>\n",
       "    <tr>\n",
       "      <th>count</th>\n",
       "      <td>19454838</td>\n",
       "      <td>19454838</td>\n",
       "      <td>19454838</td>\n",
       "      <td>2651689</td>\n",
       "      <td>19454838</td>\n",
       "      <td>59081</td>\n",
       "      <td>59081</td>\n",
       "      <td>59081</td>\n",
       "    </tr>\n",
       "    <tr>\n",
       "      <th>unique</th>\n",
       "      <td>649</td>\n",
       "      <td>144</td>\n",
       "      <td>17</td>\n",
       "      <td>5</td>\n",
       "      <td>4</td>\n",
       "      <td>4</td>\n",
       "      <td>10</td>\n",
       "      <td>4</td>\n",
       "    </tr>\n",
       "    <tr>\n",
       "      <th>top</th>\n",
       "      <td>P0125</td>\n",
       "      <td>S0038</td>\n",
       "      <td>PR14</td>\n",
       "      <td>verylow</td>\n",
       "      <td>PR03</td>\n",
       "      <td>verylow</td>\n",
       "      <td>20.0</td>\n",
       "      <td>PR02</td>\n",
       "    </tr>\n",
       "    <tr>\n",
       "      <th>freq</th>\n",
       "      <td>140997</td>\n",
       "      <td>356019</td>\n",
       "      <td>16803149</td>\n",
       "      <td>1117148</td>\n",
       "      <td>19395757</td>\n",
       "      <td>30577</td>\n",
       "      <td>15577</td>\n",
       "      <td>33184</td>\n",
       "    </tr>\n",
       "  </tbody>\n",
       "</table>\n",
       "</div>"
      ],
      "text/plain": [
       "       product_id  store_id promo_type_1 promo_bin_1 promo_type_2 promo_bin_2  \\\n",
       "count    19454838  19454838     19454838     2651689     19454838       59081   \n",
       "unique        649       144           17           5            4           4   \n",
       "top         P0125     S0038         PR14     verylow         PR03     verylow   \n",
       "freq       140997    356019     16803149     1117148     19395757       30577   \n",
       "\n",
       "       promo_discount_2 promo_discount_type_2  \n",
       "count             59081                 59081  \n",
       "unique               10                     4  \n",
       "top                20.0                  PR02  \n",
       "freq              15577                 33184  "
      ]
     },
     "metadata": {},
     "output_type": "display_data"
    },
    {
     "data": {
      "text/plain": [
       "'Statistics for numeric variables:'"
      ]
     },
     "metadata": {},
     "output_type": "display_data"
    },
    {
     "data": {
      "text/html": [
       "<div>\n",
       "<style scoped>\n",
       "    .dataframe tbody tr th:only-of-type {\n",
       "        vertical-align: middle;\n",
       "    }\n",
       "\n",
       "    .dataframe tbody tr th {\n",
       "        vertical-align: top;\n",
       "    }\n",
       "\n",
       "    .dataframe thead th {\n",
       "        text-align: right;\n",
       "    }\n",
       "</style>\n",
       "<table border=\"1\" class=\"dataframe\">\n",
       "  <thead>\n",
       "    <tr style=\"text-align: right;\">\n",
       "      <th></th>\n",
       "      <th>sales</th>\n",
       "      <th>revenue</th>\n",
       "      <th>stock</th>\n",
       "      <th>price</th>\n",
       "    </tr>\n",
       "  </thead>\n",
       "  <tbody>\n",
       "    <tr>\n",
       "      <th>count</th>\n",
       "      <td>1.826408e+07</td>\n",
       "      <td>1.826408e+07</td>\n",
       "      <td>1.826408e+07</td>\n",
       "      <td>1.888286e+07</td>\n",
       "    </tr>\n",
       "    <tr>\n",
       "      <th>mean</th>\n",
       "      <td>4.361900e-01</td>\n",
       "      <td>2.064174e+00</td>\n",
       "      <td>1.588102e+01</td>\n",
       "      <td>1.558334e+01</td>\n",
       "    </tr>\n",
       "    <tr>\n",
       "      <th>std</th>\n",
       "      <td>1.466364e+01</td>\n",
       "      <td>3.989569e+01</td>\n",
       "      <td>3.728009e+01</td>\n",
       "      <td>3.229611e+01</td>\n",
       "    </tr>\n",
       "    <tr>\n",
       "      <th>min</th>\n",
       "      <td>0.000000e+00</td>\n",
       "      <td>0.000000e+00</td>\n",
       "      <td>0.000000e+00</td>\n",
       "      <td>1.000000e-02</td>\n",
       "    </tr>\n",
       "    <tr>\n",
       "      <th>25%</th>\n",
       "      <td>0.000000e+00</td>\n",
       "      <td>0.000000e+00</td>\n",
       "      <td>4.000000e+00</td>\n",
       "      <td>3.350000e+00</td>\n",
       "    </tr>\n",
       "    <tr>\n",
       "      <th>50%</th>\n",
       "      <td>0.000000e+00</td>\n",
       "      <td>0.000000e+00</td>\n",
       "      <td>8.000000e+00</td>\n",
       "      <td>7.950000e+00</td>\n",
       "    </tr>\n",
       "    <tr>\n",
       "      <th>75%</th>\n",
       "      <td>0.000000e+00</td>\n",
       "      <td>0.000000e+00</td>\n",
       "      <td>1.700000e+01</td>\n",
       "      <td>1.690000e+01</td>\n",
       "    </tr>\n",
       "    <tr>\n",
       "      <th>max</th>\n",
       "      <td>4.330100e+04</td>\n",
       "      <td>8.419796e+04</td>\n",
       "      <td>4.716000e+03</td>\n",
       "      <td>1.599000e+03</td>\n",
       "    </tr>\n",
       "  </tbody>\n",
       "</table>\n",
       "</div>"
      ],
      "text/plain": [
       "              sales       revenue         stock         price\n",
       "count  1.826408e+07  1.826408e+07  1.826408e+07  1.888286e+07\n",
       "mean   4.361900e-01  2.064174e+00  1.588102e+01  1.558334e+01\n",
       "std    1.466364e+01  3.989569e+01  3.728009e+01  3.229611e+01\n",
       "min    0.000000e+00  0.000000e+00  0.000000e+00  1.000000e-02\n",
       "25%    0.000000e+00  0.000000e+00  4.000000e+00  3.350000e+00\n",
       "50%    0.000000e+00  0.000000e+00  8.000000e+00  7.950000e+00\n",
       "75%    0.000000e+00  0.000000e+00  1.700000e+01  1.690000e+01\n",
       "max    4.330100e+04  8.419796e+04  4.716000e+03  1.599000e+03"
      ]
     },
     "metadata": {},
     "output_type": "display_data"
    }
   ],
   "source": [
    "# Load from csv, important to parse dates here to build a time series out of that later\n",
    "df_sales = pd.read_csv('../dataset/turkish_retail_data/sales.csv',\n",
    "                       delimiter=',', \n",
    "                       dtype={\"product_id\":\"category\", \n",
    "                              \"store_id\":\"category\",\n",
    "                              \"promo_type_1\":\"category\",\n",
    "                              \"promo_bin_1\":\"category\",\n",
    "                              \"promo_type_2\":\"category\",\n",
    "                              \"promo_bin_2\":\"category\",\n",
    "                              \"promo_discount_2\":\"category\",\n",
    "                              \"promo_discount_type_2\":\"category\"},\n",
    "                       parse_dates=[\"date\"])\n",
    "\n",
    "# Display data and stats\n",
    "display('Data', df_sales.head())\n",
    "display('Statistics for categorial variables:', df_sales[[\"product_id\",\n",
    "                                                          \"store_id\",\n",
    "                                                          \"promo_type_1\",\n",
    "                                                          \"promo_bin_1\",\n",
    "                                                          \"promo_type_2\",\n",
    "                                                          \"promo_bin_2\",\n",
    "                                                          \"promo_discount_2\",\n",
    "                                                          \"promo_discount_type_2\"]].describe())\n",
    "display('Statistics for numeric variables:', df_sales.describe())"
   ]
  },
  {
   "cell_type": "markdown",
   "id": "46743b73-8d11-4ed0-b416-90f6e8a21b4e",
   "metadata": {},
   "source": [
    "## Aggregate the dataset and transform it into a time series"
   ]
  },
  {
   "cell_type": "markdown",
   "id": "611c948a-4b39-4a63-959d-f5654c89fbb0",
   "metadata": {},
   "source": [
    "We can combine information from the seperate files, by joining them on the referecing columns. \n",
    "\n",
    "- https://pandas.pydata.org/pandas-docs/stable/user_guide/merging.html"
   ]
  },
  {
   "cell_type": "code",
   "execution_count": null,
   "id": "ad9d26f4-4ec8-4b89-bb13-260288025580",
   "metadata": {},
   "outputs": [],
   "source": [
    "# For example join sales data with product hierachy on column product_id\n",
    "df_sales = df_sales.join(df_product_hierachy.set_index('product_id'), on='product_id')\n",
    "df_sales.head()"
   ]
  },
  {
   "cell_type": "markdown",
   "id": "7e8e2d2b-9b05-48f6-984a-664f2b7ddb62",
   "metadata": {},
   "source": [
    "We can aggregate the raw dataset into a time series, representing a measure related to one ore more describing attributes. \n",
    "\n",
    "- https://pandas.pydata.org/pandas-docs/stable/user_guide/groupby.html\n",
    "- https://pandas.pydata.org/pandas-docs/stable/user_guide/timeseries.html\n",
    "\n",
    "     Some examples:"
   ]
  },
  {
   "cell_type": "markdown",
   "id": "17b78054-7566-4fc9-815b-1c563f347631",
   "metadata": {},
   "source": [
    "### Daily global number of sales by product id"
   ]
  },
  {
   "cell_type": "code",
   "execution_count": null,
   "id": "9bfadc8e-c529-4132-b5a3-c5d905346f75",
   "metadata": {},
   "outputs": [],
   "source": [
    "## Daily global number of sales by product id\n",
    "ts_global_sales_by_product = df_sales.groupby(by=['date', 'product_id'])['sales'].sum()\n",
    "ts_global_sales_by_product"
   ]
  },
  {
   "cell_type": "markdown",
   "id": "ea74cccd-f4e1-4c56-b673-7ac647662f42",
   "metadata": {},
   "source": [
    "### Daily global sales for a specific product"
   ]
  },
  {
   "cell_type": "code",
   "execution_count": 7,
   "id": "4a6ddb55-fc7e-4c34-a7d3-7fae666d2588",
   "metadata": {},
   "outputs": [
    {
     "data": {
      "text/plain": [
       "date\n",
       "2017-01-02    6.0\n",
       "2017-01-03    1.0\n",
       "2017-01-04    2.0\n",
       "2017-01-05    1.0\n",
       "2017-01-06    3.0\n",
       "             ... \n",
       "2019-12-25    0.0\n",
       "2019-12-26    0.0\n",
       "2019-12-27    0.0\n",
       "2019-12-28    0.0\n",
       "2019-12-29    0.0\n",
       "Name: sales, Length: 1092, dtype: float64"
      ]
     },
     "metadata": {},
     "output_type": "display_data"
    },
    {
     "data": {
      "image/png": "[encoded data removed]",
      "text/plain": [
       "<Figure size 432x288 with 1 Axes>"
      ]
     },
     "metadata": {
      "needs_background": "light"
     },
     "output_type": "display_data"
    }
   ],
   "source": [
    "# Specify product_id\n",
    "product_id = 'P0001'\n",
    "\n",
    "# Slice time series by product_id\n",
    "display(ts_global_sales_by_product.loc[:, product_id])\n",
    "\n",
    "# plot the time series\n",
    "ts_global_sales_by_product.loc[:, product_id].plot()\n",
    "plt.show()"
   ]
  },
  {
   "cell_type": "markdown",
   "id": "45415b76-6755-4c7e-8a87-99c8d3afee54",
   "metadata": {},
   "source": [
    "### Daily revenue per store"
   ]
  },
  {
   "cell_type": "code",
   "execution_count": 8,
   "id": "ad1fcbe9-228d-4453-8943-e63ad621b293",
   "metadata": {},
   "outputs": [
    {
     "data": {
      "text/plain": [
       "date        store_id\n",
       "2017-01-02  S0001       187.86\n",
       "            S0002       171.59\n",
       "            S0003        67.47\n",
       "            S0004        61.40\n",
       "            S0006        10.56\n",
       "                         ...  \n",
       "2019-12-29  S0129         0.00\n",
       "            S0109         0.00\n",
       "            S0007         0.00\n",
       "            S0057         0.00\n",
       "            S0047         0.00\n",
       "Name: revenue, Length: 157248, dtype: float64"
      ]
     },
     "metadata": {},
     "output_type": "display_data"
    }
   ],
   "source": [
    "## Daily revenue by store_id\n",
    "ts_revenue_by_store = df_sales.groupby(by=['date', 'store_id'])['revenue'].sum()\n",
    "display(ts_revenue_by_store)"
   ]
  },
  {
   "cell_type": "code",
   "execution_count": 9,
   "id": "b06d9c4f-0365-4924-89b7-7831d17efaf2",
   "metadata": {},
   "outputs": [
    {
     "data": {
      "text/plain": [
       "date\n",
       "2017-01-02    171.59\n",
       "2017-01-03    178.10\n",
       "2017-01-04    303.89\n",
       "2017-01-05    274.65\n",
       "2017-01-06    193.81\n",
       "               ...  \n",
       "2019-12-25      0.00\n",
       "2019-12-26      0.00\n",
       "2019-12-27      0.00\n",
       "2019-12-28      0.00\n",
       "2019-12-29      0.00\n",
       "Name: revenue, Length: 1092, dtype: float64"
      ]
     },
     "metadata": {},
     "output_type": "display_data"
    },
    {
     "data": {
      "image/png": "[encoded data removed]",
      "text/plain": [
       "<Figure size 432x288 with 1 Axes>"
      ]
     },
     "metadata": {
      "needs_background": "light"
     },
     "output_type": "display_data"
    }
   ],
   "source": [
    "# Specify product_id\n",
    "store_id = 'S0002'\n",
    "\n",
    "# Slice time series by product_id\n",
    "display(ts_revenue_by_store.loc [:, store_id])\n",
    "\n",
    "# plot the time series̈\n",
    "ts_revenue_by_store.loc[:, store_id].plot()\n",
    "plt.show()"
   ]
  },
  {
   "cell_type": "markdown",
   "id": "e2fd51f4-b4a2-4d2e-a1fb-809af58024e6",
   "metadata": {},
   "source": [
    "## Resampling Timeseries\n",
    "Our dataset has daily ovservations. What if we want weekly, or monthly aggregates? How do we fill missing dates in our time series?"
   ]
  },
  {
   "cell_type": "markdown",
   "id": "b8185fd4-271c-459f-ae2b-2285ef265de7",
   "metadata": {},
   "source": [
    "If your timeseries has a `pd.DateTimeIndex` we can use `pd.Grouper` or `pd.resample()`to fill gaps, or aggregate to other frequencies.\n",
    "- https://pandas.pydata.org/pandas-docs/stable/reference/api/pandas.DataFrame.resample.html\n",
    "- http://benalexkeen.com/resampling-time-series-data-with-pandas/\n",
    "- https://pandas.pydata.org/pandas-docs/stable/user_guide/timeseries.html#dateoffset-objects\n",
    "- https://pandas.pydata.org/pandas-docs/stable/user_guide/groupby.html\n",
    "- https://pandas.pydata.org/pandas-docs/stable/user_guide/groupby.html#grouping-with-a-grouper-specification\n",
    "- https://pandas.pydata.org/pandas-docs/stable/user_guide/timeseries.html#resampling"
   ]
  },
  {
   "cell_type": "code",
   "execution_count": 10,
   "id": "36f1aab6-e951-4e07-a9d3-25f3fc8bbf4b",
   "metadata": {},
   "outputs": [
    {
     "data": {
      "text/plain": [
       "store_id  date      \n",
       "S0001     2017-01-31    13496.48\n",
       "          2017-02-28     7418.76\n",
       "          2017-03-31     9549.25\n",
       "          2017-04-30    11358.55\n",
       "          2017-05-31    13353.86\n",
       "                          ...   \n",
       "S0047     2019-08-31     6275.34\n",
       "          2019-09-30     3438.22\n",
       "          2019-10-31     2246.88\n",
       "          2019-11-30        0.00\n",
       "          2019-12-31        0.00\n",
       "Name: revenue, Length: 5184, dtype: float64"
      ]
     },
     "execution_count": 10,
     "metadata": {},
     "output_type": "execute_result"
    }
   ],
   "source": [
    "# Transfrom it to monthly obersvations per store\n",
    "ts_revenue_by_store_monthly = ts_revenue_by_store.groupby([pd.Grouper(level='store_id'), \n",
    "                                                           pd.Grouper(freq='1M', level='date')]).sum()\n",
    "ts_revenue_by_store_monthly"
   ]
  },
  {
   "cell_type": "code",
   "execution_count": 11,
   "id": "f0edb914-80e2-495d-805c-255a96445e0e",
   "metadata": {},
   "outputs": [
    {
     "data": {
      "text/plain": [
       "date\n",
       "2017-01-08     259.034286\n",
       "2017-01-15     270.987143\n",
       "2017-01-22    1057.737143\n",
       "2017-01-29     296.912857\n",
       "2017-02-05     249.352857\n",
       "                 ...     \n",
       "2019-12-01       0.000000\n",
       "2019-12-08       0.000000\n",
       "2019-12-15       0.000000\n",
       "2019-12-22       0.000000\n",
       "2019-12-29       0.000000\n",
       "Freq: W-SUN, Name: revenue, Length: 156, dtype: float64"
      ]
     },
     "execution_count": 11,
     "metadata": {},
     "output_type": "execute_result"
    }
   ],
   "source": [
    "# Resample works only on DataFrames with a single index\n",
    "# For example lets calculate a weekly mean\n",
    "ts_revenue_by_store.loc[:, store_id].resample('1W').mean()"
   ]
  },
  {
   "cell_type": "markdown",
   "id": "16eb7513-6d2d-488b-a67c-f2ccd4514431",
   "metadata": {},
   "source": [
    "## Missing values\n",
    "`resample()` can also be used to fill missing gaps.\n",
    "- https://pandas.pydata.org/pandas-docs/stable/user_guide/missing_data.html#missing-data"
   ]
  },
  {
   "cell_type": "code",
   "execution_count": 12,
   "id": "10d084ee-b21e-442d-8111-18a466da53f6",
   "metadata": {},
   "outputs": [
    {
     "data": {
      "text/plain": [
       "date\n",
       "2017-01-02    171.59\n",
       "2017-01-03    178.10\n",
       "2017-01-04    303.89\n",
       "2017-01-05    274.65\n",
       "2017-01-06    193.81\n",
       "               ...  \n",
       "2019-12-25      0.00\n",
       "2019-12-26      0.00\n",
       "2019-12-27      0.00\n",
       "2019-12-28      0.00\n",
       "2019-12-29      0.00\n",
       "Freq: D, Name: revenue, Length: 1092, dtype: float64"
      ]
     },
     "execution_count": 12,
     "metadata": {},
     "output_type": "execute_result"
    }
   ],
   "source": [
    "# resample can also be used to fill missing gaps forwardfilling \n",
    "ts_revenue_by_store.loc[:, store_id].resample('1D').ffill()"
   ]
  }
 ],
 "metadata": {
  "kernelspec": {
   "display_name": "Python 3 (ipykernel)",
   "language": "python",
   "name": "python3"
  },
  "language_info": {
   "codemirror_mode": {
    "name": "ipython",
    "version": 3
   },
   "file_extension": ".py",
   "mimetype": "text/x-python",
   "name": "python",
   "nbconvert_exporter": "python",
   "pygments_lexer": "ipython3",
   "version": "3.10.0"
  }
 },
 "nbformat": 4,
 "nbformat_minor": 5
}
