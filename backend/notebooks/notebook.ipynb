{
 "cells": [
  {
   "cell_type": "markdown",
   "metadata": {},
   "source": [
    "# SAP Challenge Notebook\n",
    "\n",
    "\n",
    "## Imports"
   ]
  },
  {
   "cell_type": "code",
   "execution_count": 2,
   "metadata": {},
   "outputs": [],
   "source": [
    "import numpy as np\n",
    "import pandas as pd\n",
    "from datetime import datetime, timedelta\n",
    "import matplotlib.pyplot as plt\n",
    "import warnings\n",
    "warnings.filterwarnings('ignore')\n",
    "\n",
    "from kats.consts import TimeSeriesData"
   ]
  },
  {
   "cell_type": "markdown",
   "metadata": {},
   "source": [
    "## Load Data Set"
   ]
  },
  {
   "cell_type": "code",
   "execution_count": 4,
   "metadata": {},
   "outputs": [
    {
     "data": {
      "text/plain": "Empty DataFrame\nColumns: [product_id, store_id, date, sales, revenue, stock, price, promo_type_1, promo_bin_1, promo_type_2, promo_bin_2, promo_discount_2, promo_discount_type_2, storetype_id, store_size, city_id, product_length, product_depth, product_width, cluster_id, hierarchy1_id, hierarchy2_id, hierarchy3_id, hierarchy4_id, hierarchy5_id]\nIndex: []\n\n[0 rows x 25 columns]",
      "text/html": "<div>\n<style scoped>\n    .dataframe tbody tr th:only-of-type {\n        vertical-align: middle;\n    }\n\n    .dataframe tbody tr th {\n        vertical-align: top;\n    }\n\n    .dataframe thead th {\n        text-align: right;\n    }\n</style>\n<table border=\"1\" class=\"dataframe\">\n  <thead>\n    <tr style=\"text-align: right;\">\n      <th></th>\n      <th>product_id</th>\n      <th>store_id</th>\n      <th>date</th>\n      <th>sales</th>\n      <th>revenue</th>\n      <th>stock</th>\n      <th>price</th>\n      <th>promo_type_1</th>\n      <th>promo_bin_1</th>\n      <th>promo_type_2</th>\n      <th>...</th>\n      <th>city_id</th>\n      <th>product_length</th>\n      <th>product_depth</th>\n      <th>product_width</th>\n      <th>cluster_id</th>\n      <th>hierarchy1_id</th>\n      <th>hierarchy2_id</th>\n      <th>hierarchy3_id</th>\n      <th>hierarchy4_id</th>\n      <th>hierarchy5_id</th>\n    </tr>\n  </thead>\n  <tbody>\n  </tbody>\n</table>\n<p>0 rows × 25 columns</p>\n</div>"
     },
     "metadata": {},
     "output_type": "display_data"
    },
    {
     "data": {
      "text/plain": "         product_id store_id       date  sales  revenue  stock  price  \\\n0             P0001    S0002 2017-01-02    0.0     0.00    8.0   6.25   \n1             P0001    S0012 2017-01-02    1.0     5.30    0.0   6.25   \n2             P0001    S0013 2017-01-02    2.0    10.59    0.0   6.25   \n3             P0001    S0023 2017-01-02    0.0     0.00    6.0   6.25   \n4             P0001    S0025 2017-01-02    0.0     0.00    1.0   6.25   \n...             ...      ...        ...    ...      ...    ...    ...   \n19454833      P0748    S0125 2019-12-29    NaN      NaN    NaN  18.90   \n19454834      P0748    S0126 2019-12-29    NaN      NaN    NaN  18.90   \n19454835      P0748    S0131 2019-12-29    NaN      NaN    NaN  18.90   \n19454836      P0748    S0132 2019-12-29    NaN      NaN    NaN  18.90   \n19454837      P0748    S0142 2019-12-29    NaN      NaN    NaN  18.90   \n\n         promo_type_1 promo_bin_1 promo_type_2  ... city_id product_length  \\\n0                PR14         NaN         PR03  ...    C007           13.5   \n1                PR14         NaN         PR03  ...    C005           13.5   \n2                PR14         NaN         PR03  ...    C026           13.5   \n3                PR14         NaN         PR03  ...    C008           13.5   \n4                PR14         NaN         PR03  ...    C024           13.5   \n...               ...         ...          ...  ...     ...            ...   \n19454833         PR14         NaN         PR03  ...    C022            3.8   \n19454834         PR14         NaN         PR03  ...    C014            3.8   \n19454835         PR14         NaN         PR03  ...    C012            3.8   \n19454836         PR14         NaN         PR03  ...    C011            3.8   \n19454837         PR14         NaN         PR03  ...    C006            3.8   \n\n         product_depth product_width  cluster_id hierarchy1_id  hierarchy2_id  \\\n0                 22.0          20.0   cluster_5           H01          H0105   \n1                 22.0          20.0   cluster_5           H01          H0105   \n2                 22.0          20.0   cluster_5           H01          H0105   \n3                 22.0          20.0   cluster_5           H01          H0105   \n4                 22.0          20.0   cluster_5           H01          H0105   \n...                ...           ...         ...           ...            ...   \n19454833           4.8          15.3   cluster_0           H01          H0108   \n19454834           4.8          15.3   cluster_0           H01          H0108   \n19454835           4.8          15.3   cluster_0           H01          H0108   \n19454836           4.8          15.3   cluster_0           H01          H0108   \n19454837           4.8          15.3   cluster_0           H01          H0108   \n\n          hierarchy3_id  hierarchy4_id hierarchy5_id  \n0               H010501      H01050100   H0105010006  \n1               H010501      H01050100   H0105010006  \n2               H010501      H01050100   H0105010006  \n3               H010501      H01050100   H0105010006  \n4               H010501      H01050100   H0105010006  \n...                 ...            ...           ...  \n19454833        H010801      H01080110   H0108011006  \n19454834        H010801      H01080110   H0108011006  \n19454835        H010801      H01080110   H0108011006  \n19454836        H010801      H01080110   H0108011006  \n19454837        H010801      H01080110   H0108011006  \n\n[19454838 rows x 25 columns]",
      "text/html": "<div>\n<style scoped>\n    .dataframe tbody tr th:only-of-type {\n        vertical-align: middle;\n    }\n\n    .dataframe tbody tr th {\n        vertical-align: top;\n    }\n\n    .dataframe thead th {\n        text-align: right;\n    }\n</style>\n<table border=\"1\" class=\"dataframe\">\n  <thead>\n    <tr style=\"text-align: right;\">\n      <th></th>\n      <th>product_id</th>\n      <th>store_id</th>\n      <th>date</th>\n      <th>sales</th>\n      <th>revenue</th>\n      <th>stock</th>\n      <th>price</th>\n      <th>promo_type_1</th>\n      <th>promo_bin_1</th>\n      <th>promo_type_2</th>\n      <th>...</th>\n      <th>city_id</th>\n      <th>product_length</th>\n      <th>product_depth</th>\n      <th>product_width</th>\n      <th>cluster_id</th>\n      <th>hierarchy1_id</th>\n      <th>hierarchy2_id</th>\n      <th>hierarchy3_id</th>\n      <th>hierarchy4_id</th>\n      <th>hierarchy5_id</th>\n    </tr>\n  </thead>\n  <tbody>\n    <tr>\n      <th>0</th>\n      <td>P0001</td>\n      <td>S0002</td>\n      <td>2017-01-02</td>\n      <td>0.0</td>\n      <td>0.00</td>\n      <td>8.0</td>\n      <td>6.25</td>\n      <td>PR14</td>\n      <td>NaN</td>\n      <td>PR03</td>\n      <td>...</td>\n      <td>C007</td>\n      <td>13.5</td>\n      <td>22.0</td>\n      <td>20.0</td>\n      <td>cluster_5</td>\n      <td>H01</td>\n      <td>H0105</td>\n      <td>H010501</td>\n      <td>H01050100</td>\n      <td>H0105010006</td>\n    </tr>\n    <tr>\n      <th>1</th>\n      <td>P0001</td>\n      <td>S0012</td>\n      <td>2017-01-02</td>\n      <td>1.0</td>\n      <td>5.30</td>\n      <td>0.0</td>\n      <td>6.25</td>\n      <td>PR14</td>\n      <td>NaN</td>\n      <td>PR03</td>\n      <td>...</td>\n      <td>C005</td>\n      <td>13.5</td>\n      <td>22.0</td>\n      <td>20.0</td>\n      <td>cluster_5</td>\n      <td>H01</td>\n      <td>H0105</td>\n      <td>H010501</td>\n      <td>H01050100</td>\n      <td>H0105010006</td>\n    </tr>\n    <tr>\n      <th>2</th>\n      <td>P0001</td>\n      <td>S0013</td>\n      <td>2017-01-02</td>\n      <td>2.0</td>\n      <td>10.59</td>\n      <td>0.0</td>\n      <td>6.25</td>\n      <td>PR14</td>\n      <td>NaN</td>\n      <td>PR03</td>\n      <td>...</td>\n      <td>C026</td>\n      <td>13.5</td>\n      <td>22.0</td>\n      <td>20.0</td>\n      <td>cluster_5</td>\n      <td>H01</td>\n      <td>H0105</td>\n      <td>H010501</td>\n      <td>H01050100</td>\n      <td>H0105010006</td>\n    </tr>\n    <tr>\n      <th>3</th>\n      <td>P0001</td>\n      <td>S0023</td>\n      <td>2017-01-02</td>\n      <td>0.0</td>\n      <td>0.00</td>\n      <td>6.0</td>\n      <td>6.25</td>\n      <td>PR14</td>\n      <td>NaN</td>\n      <td>PR03</td>\n      <td>...</td>\n      <td>C008</td>\n      <td>13.5</td>\n      <td>22.0</td>\n      <td>20.0</td>\n      <td>cluster_5</td>\n      <td>H01</td>\n      <td>H0105</td>\n      <td>H010501</td>\n      <td>H01050100</td>\n      <td>H0105010006</td>\n    </tr>\n    <tr>\n      <th>4</th>\n      <td>P0001</td>\n      <td>S0025</td>\n      <td>2017-01-02</td>\n      <td>0.0</td>\n      <td>0.00</td>\n      <td>1.0</td>\n      <td>6.25</td>\n      <td>PR14</td>\n      <td>NaN</td>\n      <td>PR03</td>\n      <td>...</td>\n      <td>C024</td>\n      <td>13.5</td>\n      <td>22.0</td>\n      <td>20.0</td>\n      <td>cluster_5</td>\n      <td>H01</td>\n      <td>H0105</td>\n      <td>H010501</td>\n      <td>H01050100</td>\n      <td>H0105010006</td>\n    </tr>\n    <tr>\n      <th>...</th>\n      <td>...</td>\n      <td>...</td>\n      <td>...</td>\n      <td>...</td>\n      <td>...</td>\n      <td>...</td>\n      <td>...</td>\n      <td>...</td>\n      <td>...</td>\n      <td>...</td>\n      <td>...</td>\n      <td>...</td>\n      <td>...</td>\n      <td>...</td>\n      <td>...</td>\n      <td>...</td>\n      <td>...</td>\n      <td>...</td>\n      <td>...</td>\n      <td>...</td>\n      <td>...</td>\n    </tr>\n    <tr>\n      <th>19454833</th>\n      <td>P0748</td>\n      <td>S0125</td>\n      <td>2019-12-29</td>\n      <td>NaN</td>\n      <td>NaN</td>\n      <td>NaN</td>\n      <td>18.90</td>\n      <td>PR14</td>\n      <td>NaN</td>\n      <td>PR03</td>\n      <td>...</td>\n      <td>C022</td>\n      <td>3.8</td>\n      <td>4.8</td>\n      <td>15.3</td>\n      <td>cluster_0</td>\n      <td>H01</td>\n      <td>H0108</td>\n      <td>H010801</td>\n      <td>H01080110</td>\n      <td>H0108011006</td>\n    </tr>\n    <tr>\n      <th>19454834</th>\n      <td>P0748</td>\n      <td>S0126</td>\n      <td>2019-12-29</td>\n      <td>NaN</td>\n      <td>NaN</td>\n      <td>NaN</td>\n      <td>18.90</td>\n      <td>PR14</td>\n      <td>NaN</td>\n      <td>PR03</td>\n      <td>...</td>\n      <td>C014</td>\n      <td>3.8</td>\n      <td>4.8</td>\n      <td>15.3</td>\n      <td>cluster_0</td>\n      <td>H01</td>\n      <td>H0108</td>\n      <td>H010801</td>\n      <td>H01080110</td>\n      <td>H0108011006</td>\n    </tr>\n    <tr>\n      <th>19454835</th>\n      <td>P0748</td>\n      <td>S0131</td>\n      <td>2019-12-29</td>\n      <td>NaN</td>\n      <td>NaN</td>\n      <td>NaN</td>\n      <td>18.90</td>\n      <td>PR14</td>\n      <td>NaN</td>\n      <td>PR03</td>\n      <td>...</td>\n      <td>C012</td>\n      <td>3.8</td>\n      <td>4.8</td>\n      <td>15.3</td>\n      <td>cluster_0</td>\n      <td>H01</td>\n      <td>H0108</td>\n      <td>H010801</td>\n      <td>H01080110</td>\n      <td>H0108011006</td>\n    </tr>\n    <tr>\n      <th>19454836</th>\n      <td>P0748</td>\n      <td>S0132</td>\n      <td>2019-12-29</td>\n      <td>NaN</td>\n      <td>NaN</td>\n      <td>NaN</td>\n      <td>18.90</td>\n      <td>PR14</td>\n      <td>NaN</td>\n      <td>PR03</td>\n      <td>...</td>\n      <td>C011</td>\n      <td>3.8</td>\n      <td>4.8</td>\n      <td>15.3</td>\n      <td>cluster_0</td>\n      <td>H01</td>\n      <td>H0108</td>\n      <td>H010801</td>\n      <td>H01080110</td>\n      <td>H0108011006</td>\n    </tr>\n    <tr>\n      <th>19454837</th>\n      <td>P0748</td>\n      <td>S0142</td>\n      <td>2019-12-29</td>\n      <td>NaN</td>\n      <td>NaN</td>\n      <td>NaN</td>\n      <td>18.90</td>\n      <td>PR14</td>\n      <td>NaN</td>\n      <td>PR03</td>\n      <td>...</td>\n      <td>C006</td>\n      <td>3.8</td>\n      <td>4.8</td>\n      <td>15.3</td>\n      <td>cluster_0</td>\n      <td>H01</td>\n      <td>H0108</td>\n      <td>H010801</td>\n      <td>H01080110</td>\n      <td>H0108011006</td>\n    </tr>\n  </tbody>\n</table>\n<p>19454838 rows × 25 columns</p>\n</div>"
     },
     "metadata": {},
     "output_type": "display_data"
    },
    {
     "data": {
      "text/plain": "         product_id store_id       date  sales  revenue  stock  price  \\\n0             P0001    S0002 2017-01-02    0.0     0.00    8.0   6.25   \n1             P0001    S0012 2017-01-02    1.0     5.30    0.0   6.25   \n2             P0001    S0013 2017-01-02    2.0    10.59    0.0   6.25   \n3             P0001    S0023 2017-01-02    0.0     0.00    6.0   6.25   \n4             P0001    S0025 2017-01-02    0.0     0.00    1.0   6.25   \n...             ...      ...        ...    ...      ...    ...    ...   \n19454833      P0748    S0125 2019-12-29    NaN      NaN    NaN  18.90   \n19454834      P0748    S0126 2019-12-29    NaN      NaN    NaN  18.90   \n19454835      P0748    S0131 2019-12-29    NaN      NaN    NaN  18.90   \n19454836      P0748    S0132 2019-12-29    NaN      NaN    NaN  18.90   \n19454837      P0748    S0142 2019-12-29    NaN      NaN    NaN  18.90   \n\n         promo_type_1 promo_bin_1 promo_type_2  ... city_id product_length  \\\n0                PR14         NaN         PR03  ...    C007           13.5   \n1                PR14         NaN         PR03  ...    C005           13.5   \n2                PR14         NaN         PR03  ...    C026           13.5   \n3                PR14         NaN         PR03  ...    C008           13.5   \n4                PR14         NaN         PR03  ...    C024           13.5   \n...               ...         ...          ...  ...     ...            ...   \n19454833         PR14         NaN         PR03  ...    C022            3.8   \n19454834         PR14         NaN         PR03  ...    C014            3.8   \n19454835         PR14         NaN         PR03  ...    C012            3.8   \n19454836         PR14         NaN         PR03  ...    C011            3.8   \n19454837         PR14         NaN         PR03  ...    C006            3.8   \n\n         product_depth product_width  cluster_id hierarchy1_id  hierarchy2_id  \\\n0                 22.0          20.0   cluster_5           H01          H0105   \n1                 22.0          20.0   cluster_5           H01          H0105   \n2                 22.0          20.0   cluster_5           H01          H0105   \n3                 22.0          20.0   cluster_5           H01          H0105   \n4                 22.0          20.0   cluster_5           H01          H0105   \n...                ...           ...         ...           ...            ...   \n19454833           4.8          15.3   cluster_0           H01          H0108   \n19454834           4.8          15.3   cluster_0           H01          H0108   \n19454835           4.8          15.3   cluster_0           H01          H0108   \n19454836           4.8          15.3   cluster_0           H01          H0108   \n19454837           4.8          15.3   cluster_0           H01          H0108   \n\n          hierarchy3_id  hierarchy4_id hierarchy5_id  \n0               H010501      H01050100   H0105010006  \n1               H010501      H01050100   H0105010006  \n2               H010501      H01050100   H0105010006  \n3               H010501      H01050100   H0105010006  \n4               H010501      H01050100   H0105010006  \n...                 ...            ...           ...  \n19454833        H010801      H01080110   H0108011006  \n19454834        H010801      H01080110   H0108011006  \n19454835        H010801      H01080110   H0108011006  \n19454836        H010801      H01080110   H0108011006  \n19454837        H010801      H01080110   H0108011006  \n\n[19454838 rows x 25 columns]",
      "text/html": "<div>\n<style scoped>\n    .dataframe tbody tr th:only-of-type {\n        vertical-align: middle;\n    }\n\n    .dataframe tbody tr th {\n        vertical-align: top;\n    }\n\n    .dataframe thead th {\n        text-align: right;\n    }\n</style>\n<table border=\"1\" class=\"dataframe\">\n  <thead>\n    <tr style=\"text-align: right;\">\n      <th></th>\n      <th>product_id</th>\n      <th>store_id</th>\n      <th>date</th>\n      <th>sales</th>\n      <th>revenue</th>\n      <th>stock</th>\n      <th>price</th>\n      <th>promo_type_1</th>\n      <th>promo_bin_1</th>\n      <th>promo_type_2</th>\n      <th>...</th>\n      <th>city_id</th>\n      <th>product_length</th>\n      <th>product_depth</th>\n      <th>product_width</th>\n      <th>cluster_id</th>\n      <th>hierarchy1_id</th>\n      <th>hierarchy2_id</th>\n      <th>hierarchy3_id</th>\n      <th>hierarchy4_id</th>\n      <th>hierarchy5_id</th>\n    </tr>\n  </thead>\n  <tbody>\n    <tr>\n      <th>0</th>\n      <td>P0001</td>\n      <td>S0002</td>\n      <td>2017-01-02</td>\n      <td>0.0</td>\n      <td>0.00</td>\n      <td>8.0</td>\n      <td>6.25</td>\n      <td>PR14</td>\n      <td>NaN</td>\n      <td>PR03</td>\n      <td>...</td>\n      <td>C007</td>\n      <td>13.5</td>\n      <td>22.0</td>\n      <td>20.0</td>\n      <td>cluster_5</td>\n      <td>H01</td>\n      <td>H0105</td>\n      <td>H010501</td>\n      <td>H01050100</td>\n      <td>H0105010006</td>\n    </tr>\n    <tr>\n      <th>1</th>\n      <td>P0001</td>\n      <td>S0012</td>\n      <td>2017-01-02</td>\n      <td>1.0</td>\n      <td>5.30</td>\n      <td>0.0</td>\n      <td>6.25</td>\n      <td>PR14</td>\n      <td>NaN</td>\n      <td>PR03</td>\n      <td>...</td>\n      <td>C005</td>\n      <td>13.5</td>\n      <td>22.0</td>\n      <td>20.0</td>\n      <td>cluster_5</td>\n      <td>H01</td>\n      <td>H0105</td>\n      <td>H010501</td>\n      <td>H01050100</td>\n      <td>H0105010006</td>\n    </tr>\n    <tr>\n      <th>2</th>\n      <td>P0001</td>\n      <td>S0013</td>\n      <td>2017-01-02</td>\n      <td>2.0</td>\n      <td>10.59</td>\n      <td>0.0</td>\n      <td>6.25</td>\n      <td>PR14</td>\n      <td>NaN</td>\n      <td>PR03</td>\n      <td>...</td>\n      <td>C026</td>\n      <td>13.5</td>\n      <td>22.0</td>\n      <td>20.0</td>\n      <td>cluster_5</td>\n      <td>H01</td>\n      <td>H0105</td>\n      <td>H010501</td>\n      <td>H01050100</td>\n      <td>H0105010006</td>\n    </tr>\n    <tr>\n      <th>3</th>\n      <td>P0001</td>\n      <td>S0023</td>\n      <td>2017-01-02</td>\n      <td>0.0</td>\n      <td>0.00</td>\n      <td>6.0</td>\n      <td>6.25</td>\n      <td>PR14</td>\n      <td>NaN</td>\n      <td>PR03</td>\n      <td>...</td>\n      <td>C008</td>\n      <td>13.5</td>\n      <td>22.0</td>\n      <td>20.0</td>\n      <td>cluster_5</td>\n      <td>H01</td>\n      <td>H0105</td>\n      <td>H010501</td>\n      <td>H01050100</td>\n      <td>H0105010006</td>\n    </tr>\n    <tr>\n      <th>4</th>\n      <td>P0001</td>\n      <td>S0025</td>\n      <td>2017-01-02</td>\n      <td>0.0</td>\n      <td>0.00</td>\n      <td>1.0</td>\n      <td>6.25</td>\n      <td>PR14</td>\n      <td>NaN</td>\n      <td>PR03</td>\n      <td>...</td>\n      <td>C024</td>\n      <td>13.5</td>\n      <td>22.0</td>\n      <td>20.0</td>\n      <td>cluster_5</td>\n      <td>H01</td>\n      <td>H0105</td>\n      <td>H010501</td>\n      <td>H01050100</td>\n      <td>H0105010006</td>\n    </tr>\n    <tr>\n      <th>...</th>\n      <td>...</td>\n      <td>...</td>\n      <td>...</td>\n      <td>...</td>\n      <td>...</td>\n      <td>...</td>\n      <td>...</td>\n      <td>...</td>\n      <td>...</td>\n      <td>...</td>\n      <td>...</td>\n      <td>...</td>\n      <td>...</td>\n      <td>...</td>\n      <td>...</td>\n      <td>...</td>\n      <td>...</td>\n      <td>...</td>\n      <td>...</td>\n      <td>...</td>\n      <td>...</td>\n    </tr>\n    <tr>\n      <th>19454833</th>\n      <td>P0748</td>\n      <td>S0125</td>\n      <td>2019-12-29</td>\n      <td>NaN</td>\n      <td>NaN</td>\n      <td>NaN</td>\n      <td>18.90</td>\n      <td>PR14</td>\n      <td>NaN</td>\n      <td>PR03</td>\n      <td>...</td>\n      <td>C022</td>\n      <td>3.8</td>\n      <td>4.8</td>\n      <td>15.3</td>\n      <td>cluster_0</td>\n      <td>H01</td>\n      <td>H0108</td>\n      <td>H010801</td>\n      <td>H01080110</td>\n      <td>H0108011006</td>\n    </tr>\n    <tr>\n      <th>19454834</th>\n      <td>P0748</td>\n      <td>S0126</td>\n      <td>2019-12-29</td>\n      <td>NaN</td>\n      <td>NaN</td>\n      <td>NaN</td>\n      <td>18.90</td>\n      <td>PR14</td>\n      <td>NaN</td>\n      <td>PR03</td>\n      <td>...</td>\n      <td>C014</td>\n      <td>3.8</td>\n      <td>4.8</td>\n      <td>15.3</td>\n      <td>cluster_0</td>\n      <td>H01</td>\n      <td>H0108</td>\n      <td>H010801</td>\n      <td>H01080110</td>\n      <td>H0108011006</td>\n    </tr>\n    <tr>\n      <th>19454835</th>\n      <td>P0748</td>\n      <td>S0131</td>\n      <td>2019-12-29</td>\n      <td>NaN</td>\n      <td>NaN</td>\n      <td>NaN</td>\n      <td>18.90</td>\n      <td>PR14</td>\n      <td>NaN</td>\n      <td>PR03</td>\n      <td>...</td>\n      <td>C012</td>\n      <td>3.8</td>\n      <td>4.8</td>\n      <td>15.3</td>\n      <td>cluster_0</td>\n      <td>H01</td>\n      <td>H0108</td>\n      <td>H010801</td>\n      <td>H01080110</td>\n      <td>H0108011006</td>\n    </tr>\n    <tr>\n      <th>19454836</th>\n      <td>P0748</td>\n      <td>S0132</td>\n      <td>2019-12-29</td>\n      <td>NaN</td>\n      <td>NaN</td>\n      <td>NaN</td>\n      <td>18.90</td>\n      <td>PR14</td>\n      <td>NaN</td>\n      <td>PR03</td>\n      <td>...</td>\n      <td>C011</td>\n      <td>3.8</td>\n      <td>4.8</td>\n      <td>15.3</td>\n      <td>cluster_0</td>\n      <td>H01</td>\n      <td>H0108</td>\n      <td>H010801</td>\n      <td>H01080110</td>\n      <td>H0108011006</td>\n    </tr>\n    <tr>\n      <th>19454837</th>\n      <td>P0748</td>\n      <td>S0142</td>\n      <td>2019-12-29</td>\n      <td>NaN</td>\n      <td>NaN</td>\n      <td>NaN</td>\n      <td>18.90</td>\n      <td>PR14</td>\n      <td>NaN</td>\n      <td>PR03</td>\n      <td>...</td>\n      <td>C006</td>\n      <td>3.8</td>\n      <td>4.8</td>\n      <td>15.3</td>\n      <td>cluster_0</td>\n      <td>H01</td>\n      <td>H0108</td>\n      <td>H010801</td>\n      <td>H01080110</td>\n      <td>H0108011006</td>\n    </tr>\n  </tbody>\n</table>\n<p>19454838 rows × 25 columns</p>\n</div>"
     },
     "metadata": {},
     "output_type": "display_data"
    },
    {
     "data": {
      "text/plain": "           time     value\n0    2017-01-02  6817.962\n1    2017-01-03  6578.220\n2    2017-01-04  6615.686\n3    2017-01-05  6440.778\n4    2017-01-06  7182.927\n...         ...       ...\n1087 2019-12-25     0.000\n1088 2019-12-26     0.000\n1089 2019-12-27     0.000\n1090 2019-12-28     0.000\n1091 2019-12-29     0.000\n\n[1092 rows x 2 columns]",
      "text/html": "<div>\n<style scoped>\n    .dataframe tbody tr th:only-of-type {\n        vertical-align: middle;\n    }\n\n    .dataframe tbody tr th {\n        vertical-align: top;\n    }\n\n    .dataframe thead th {\n        text-align: right;\n    }\n</style>\n<table border=\"1\" class=\"dataframe\">\n  <thead>\n    <tr style=\"text-align: right;\">\n      <th></th>\n      <th>time</th>\n      <th>value</th>\n    </tr>\n  </thead>\n  <tbody>\n    <tr>\n      <th>0</th>\n      <td>2017-01-02</td>\n      <td>6817.962</td>\n    </tr>\n    <tr>\n      <th>1</th>\n      <td>2017-01-03</td>\n      <td>6578.220</td>\n    </tr>\n    <tr>\n      <th>2</th>\n      <td>2017-01-04</td>\n      <td>6615.686</td>\n    </tr>\n    <tr>\n      <th>3</th>\n      <td>2017-01-05</td>\n      <td>6440.778</td>\n    </tr>\n    <tr>\n      <th>4</th>\n      <td>2017-01-06</td>\n      <td>7182.927</td>\n    </tr>\n    <tr>\n      <th>...</th>\n      <td>...</td>\n      <td>...</td>\n    </tr>\n    <tr>\n      <th>1087</th>\n      <td>2019-12-25</td>\n      <td>0.000</td>\n    </tr>\n    <tr>\n      <th>1088</th>\n      <td>2019-12-26</td>\n      <td>0.000</td>\n    </tr>\n    <tr>\n      <th>1089</th>\n      <td>2019-12-27</td>\n      <td>0.000</td>\n    </tr>\n    <tr>\n      <th>1090</th>\n      <td>2019-12-28</td>\n      <td>0.000</td>\n    </tr>\n    <tr>\n      <th>1091</th>\n      <td>2019-12-29</td>\n      <td>0.000</td>\n    </tr>\n  </tbody>\n</table>\n<p>1092 rows × 2 columns</p>\n</div>"
     },
     "metadata": {},
     "output_type": "display_data"
    },
    {
     "data": {
      "text/plain": "<Figure size 432x288 with 1 Axes>",
      "image/png": "[encoded data removed]"
     },
     "metadata": {
      "needs_background": "light"
     },
     "output_type": "display_data"
    }
   ],
   "source": [
    "df_stores = pd.read_csv('../dataset/turkish_retail_data/store_cities.csv',\n",
    "                        delimiter=',',\n",
    "                        dtype={'store_id': 'category',\n",
    "                               'storetype_id': 'category',\n",
    "                               'city_id': 'category'})\n",
    "df_sales = pd.read_csv('../dataset/turkish_retail_data/sales.csv',\n",
    "                       delimiter=',',\n",
    "                       dtype={\"product_id\": \"category\",\n",
    "                              \"store_id\": \"category\",\n",
    "                              \"promo_type_1\": \"category\",\n",
    "                              \"promo_bin_1\": \"category\",\n",
    "                              \"promo_type_2\": \"category\",\n",
    "                              \"promo_bin_2\": \"category\",\n",
    "                              \"promo_discount_2\": \"category\",\n",
    "                              \"promo_discount_type_2\": \"category\"},\n",
    "                       parse_dates=[\"date\"])\n",
    "df_product_hierachy = pd.read_csv('../dataset/turkish_retail_data/product_hierarchy.csv',\n",
    "                                  delimiter=',',\n",
    "                                  dtype={'product_id': 'category',\n",
    "                                         'cluster_id': 'category',\n",
    "                                         'hierarchy1_id': 'category',\n",
    "                                         'hierarchy2_id': 'category',\n",
    "                                         'hierarchy3_id': 'category',\n",
    "                                         'hierarchy4_id': 'category',\n",
    "                                         'hierarchy5_id': 'category'})\n",
    "\n",
    "df_sales = df_sales.join(df_stores.set_index('store_id'), on='store_id')\n",
    "df_sales = df_sales.join(df_product_hierachy.set_index('product_id'), on='product_id')\n",
    "df_missing_date = df_sales.loc[df_sales['date'] == '']\n",
    "display(df_missing_date)\n",
    "display(df_sales)\n",
    "\n",
    "ts_global_sales = df_sales.groupby(by=['date'])['sales'].sum().reset_index()\n",
    "\n",
    "display(df_sales)\n",
    "\n",
    "ts_global_sales = ts_global_sales.rename(columns={'date': 'time', 'sales': 'value'})\n",
    "\n",
    "ts_global_sales.plot()\n",
    "display(ts_global_sales)\n",
    "plt.show()"
   ]
  },
  {
   "cell_type": "markdown",
   "metadata": {
    "pycharm": {
     "name": "#%% md\n"
    }
   },
   "source": [
    "## Transform into time series"
   ]
  },
  {
   "cell_type": "code",
   "execution_count": null,
   "metadata": {
    "pycharm": {
     "name": "#%%\n"
    }
   },
   "outputs": [],
   "source": [
    "ts_global_sales = TimeSeriesData(time=ts_global_sales.time, value=ts_global_sales.value)\n",
    "ts_global_sales.plot(cols=['value'])\n",
    "plt.show()"
   ]
  },
  {
   "cell_type": "code",
   "execution_count": null,
   "outputs": [],
   "source": [
    "## Predict future results"
   ],
   "metadata": {
    "collapsed": false,
    "pycharm": {
     "name": "#%%\n"
    }
   }
  },
  {
   "cell_type": "code",
   "execution_count": null,
   "outputs": [],
   "source": [
    "from kats.models.prophet import ProphetModel, ProphetParams\n",
    "\n",
    "params = ProphetParams(seasonality_mode='multiplicative')\n",
    "\n",
    "model = ProphetModel(ts_global_sales, params)\n",
    "\n",
    "model.fit()\n",
    "\n",
    "forecast = model.predict(steps=30, freq='D')\n",
    "\n",
    "model.plot()\n",
    "\n"
   ],
   "metadata": {
    "collapsed": false,
    "pycharm": {
     "name": "#%%\n"
    }
   }
  },
  {
   "cell_type": "code",
   "execution_count": null,
   "outputs": [],
   "source": [
    "## Product hierarchy trends"
   ],
   "metadata": {
    "collapsed": false,
    "pycharm": {
     "name": "#%%\n"
    }
   }
  },
  {
   "cell_type": "code",
   "execution_count": null,
   "outputs": [],
   "source": [
    "from kats.detectors.trend_mk import MKDetector\n",
    "\n",
    "df_product_h1 = df_sales['hierarchy1_id'].drop_duplicates()\n",
    "def trends_for_hierarchy(hierarchy: str) -> None:\n",
    "    df_sales_h = df_sales.loc[df_sales['hierarchy1_id'] == hierarchy]\n",
    "    df_sales_h = df_sales_h.groupby(by=['date'])['sales'].sum()\n",
    "\n",
    "    df_sales_h = df_sales_h.loc['2017-01-01':'2019-10-01'].to_frame().reset_index()\n",
    "    df_sales_h = df_sales_h.rename(columns={'date': 'time', 'sales': 'value'}, errors='raise')\n",
    "    ts_sales_h = TimeSeriesData(time=df_sales_h.time, value=df_sales_h.value)\n",
    "\n",
    "    detector = MKDetector(data=ts_sales_h, threshold=.8)\n",
    "\n",
    "    detected_time_points = detector.detector(direction='down', window_size=21)\n",
    "\n",
    "    detector.plot(detected_time_points)\n",
    "    plt.show()\n",
    "\n",
    "\n",
    "for hierarchy in df_product_h1:\n",
    "    trends_for_hierarchy(hierarchy)\n",
    "    "
   ],
   "metadata": {
    "collapsed": false,
    "pycharm": {
     "name": "#%%\n"
    }
   }
  },
  {
   "cell_type": "code",
   "execution_count": null,
   "outputs": [],
   "source": [
    "## Trends for locations (cities)"
   ],
   "metadata": {
    "collapsed": false,
    "pycharm": {
     "name": "#%%\n"
    }
   }
  },
  {
   "cell_type": "code",
   "execution_count": null,
   "outputs": [],
   "source": [
    "df_product_cities = df_sales['city_id'].drop_duplicates()\n",
    "def trends_for_city(city: str) -> None:\n",
    "    df_sales_c = df_sales.loc[df_sales['city_id'] == city]\n",
    "    df_sales_c = df_sales_c.groupby(by=['date'])['sales'].sum()\n",
    "\n",
    "    df_sales_c = df_sales_c.loc['2017-01-01':'2019-10-01'].to_frame().reset_index()\n",
    "    df_sales_c = df_sales_c.rename(columns={'date': 'time', 'sales': 'value'}, errors='raise')\n",
    "    ts_sales_c = TimeSeriesData(time=df_sales_c.time, value=df_sales_c.value)\n",
    "\n",
    "    detector = MKDetector(data=ts_sales_c, threshold=.8)\n",
    "\n",
    "    detected_time_points = detector.detector(direction='down', window_size=21)\n",
    "\n",
    "    detector.plot(detected_time_points)\n",
    "    plt.show()\n",
    "\n",
    "\n",
    "for city in df_product_cities:\n",
    "    trends_for_city(city)"
   ],
   "metadata": {
    "collapsed": false,
    "pycharm": {
     "name": "#%%\n"
    }
   }
  }
 ],
 "metadata": {
  "kernelspec": {
   "display_name": "Python 3 (ipykernel)",
   "language": "python",
   "name": "python3"
  },
  "language_info": {
   "codemirror_mode": {
    "name": "ipython",
    "version": 3
   },
   "file_extension": ".py",
   "mimetype": "text/x-python",
   "name": "python",
   "nbconvert_exporter": "python",
   "pygments_lexer": "ipython3",
   "version": "3.9.7"
  }
 },
 "nbformat": 4,
 "nbformat_minor": 1
}