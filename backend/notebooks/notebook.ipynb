{
 "cells": [
  {
   "cell_type": "markdown",
   "metadata": {},
   "source": [
    "# SAP Challenge Notebook\n",
    "\n",
    "\n",
    "## Imports"
   ]
  },
  {
   "cell_type": "code",
   "execution_count": 12,
   "metadata": {},
   "outputs": [
    {
     "ename": "ModuleNotFoundError",
     "evalue": "No module named 'kats'",
     "output_type": "error",
     "traceback": [
      "\u001B[1;31m---------------------------------------------------------------------------\u001B[0m",
      "\u001B[1;31mModuleNotFoundError\u001B[0m                       Traceback (most recent call last)",
      "\u001B[1;32m~\\AppData\\Local\\Temp/ipykernel_18284/3248881571.py\u001B[0m in \u001B[0;36m<module>\u001B[1;34m\u001B[0m\n\u001B[0;32m      6\u001B[0m \u001B[0mwarnings\u001B[0m\u001B[1;33m.\u001B[0m\u001B[0mfilterwarnings\u001B[0m\u001B[1;33m(\u001B[0m\u001B[1;34m'ignore'\u001B[0m\u001B[1;33m)\u001B[0m\u001B[1;33m\u001B[0m\u001B[1;33m\u001B[0m\u001B[0m\n\u001B[0;32m      7\u001B[0m \u001B[1;33m\u001B[0m\u001B[0m\n\u001B[1;32m----> 8\u001B[1;33m \u001B[1;32mfrom\u001B[0m \u001B[0mkats\u001B[0m\u001B[1;33m.\u001B[0m\u001B[0mconsts\u001B[0m \u001B[1;32mimport\u001B[0m \u001B[0mTimeSeriesData\u001B[0m\u001B[1;33m\u001B[0m\u001B[1;33m\u001B[0m\u001B[0m\n\u001B[0m\u001B[0;32m      9\u001B[0m \u001B[1;33m\u001B[0m\u001B[0m\n",
      "\u001B[1;31mModuleNotFoundError\u001B[0m: No module named 'kats'"
     ]
    }
   ],
   "source": [
    "import numpy as np\n",
    "import pandas as pd\n",
    "from datetime import datetime, timedelta\n",
    "import matplotlib.pyplot as plt\n",
    "import warnings\n",
    "warnings.filterwarnings('ignore')\n",
    "\n",
    "from kats.consts import TimeSeriesData"
   ]
  },
  {
   "cell_type": "markdown",
   "metadata": {},
   "source": [
    "## Load Data Set"
   ]
  },
  {
   "cell_type": "code",
   "execution_count": 11,
   "metadata": {},
   "outputs": [
    {
     "data": {
      "text/plain": "  product_id store_id       date  sales  revenue  stock  price promo_type_1  \\\n0      P0001    S0002 2017-01-02    0.0     0.00    8.0   6.25         PR14   \n1      P0001    S0012 2017-01-02    1.0     5.30    0.0   6.25         PR14   \n2      P0001    S0013 2017-01-02    2.0    10.59    0.0   6.25         PR14   \n3      P0001    S0023 2017-01-02    0.0     0.00    6.0   6.25         PR14   \n4      P0001    S0025 2017-01-02    0.0     0.00    1.0   6.25         PR14   \n\n  promo_bin_1 promo_type_2  ... city_id product_length product_depth  \\\n0         NaN         PR03  ...    C007           13.5          22.0   \n1         NaN         PR03  ...    C005           13.5          22.0   \n2         NaN         PR03  ...    C026           13.5          22.0   \n3         NaN         PR03  ...    C008           13.5          22.0   \n4         NaN         PR03  ...    C024           13.5          22.0   \n\n  product_width  cluster_id hierarchy1_id  hierarchy2_id  hierarchy3_id  \\\n0          20.0   cluster_5           H01          H0105        H010501   \n1          20.0   cluster_5           H01          H0105        H010501   \n2          20.0   cluster_5           H01          H0105        H010501   \n3          20.0   cluster_5           H01          H0105        H010501   \n4          20.0   cluster_5           H01          H0105        H010501   \n\n   hierarchy4_id hierarchy5_id  \n0      H01050100   H0105010006  \n1      H01050100   H0105010006  \n2      H01050100   H0105010006  \n3      H01050100   H0105010006  \n4      H01050100   H0105010006  \n\n[5 rows x 25 columns]",
      "text/html": "<div>\n<style scoped>\n    .dataframe tbody tr th:only-of-type {\n        vertical-align: middle;\n    }\n\n    .dataframe tbody tr th {\n        vertical-align: top;\n    }\n\n    .dataframe thead th {\n        text-align: right;\n    }\n</style>\n<table border=\"1\" class=\"dataframe\">\n  <thead>\n    <tr style=\"text-align: right;\">\n      <th></th>\n      <th>product_id</th>\n      <th>store_id</th>\n      <th>date</th>\n      <th>sales</th>\n      <th>revenue</th>\n      <th>stock</th>\n      <th>price</th>\n      <th>promo_type_1</th>\n      <th>promo_bin_1</th>\n      <th>promo_type_2</th>\n      <th>...</th>\n      <th>city_id</th>\n      <th>product_length</th>\n      <th>product_depth</th>\n      <th>product_width</th>\n      <th>cluster_id</th>\n      <th>hierarchy1_id</th>\n      <th>hierarchy2_id</th>\n      <th>hierarchy3_id</th>\n      <th>hierarchy4_id</th>\n      <th>hierarchy5_id</th>\n    </tr>\n  </thead>\n  <tbody>\n    <tr>\n      <th>0</th>\n      <td>P0001</td>\n      <td>S0002</td>\n      <td>2017-01-02</td>\n      <td>0.0</td>\n      <td>0.00</td>\n      <td>8.0</td>\n      <td>6.25</td>\n      <td>PR14</td>\n      <td>NaN</td>\n      <td>PR03</td>\n      <td>...</td>\n      <td>C007</td>\n      <td>13.5</td>\n      <td>22.0</td>\n      <td>20.0</td>\n      <td>cluster_5</td>\n      <td>H01</td>\n      <td>H0105</td>\n      <td>H010501</td>\n      <td>H01050100</td>\n      <td>H0105010006</td>\n    </tr>\n    <tr>\n      <th>1</th>\n      <td>P0001</td>\n      <td>S0012</td>\n      <td>2017-01-02</td>\n      <td>1.0</td>\n      <td>5.30</td>\n      <td>0.0</td>\n      <td>6.25</td>\n      <td>PR14</td>\n      <td>NaN</td>\n      <td>PR03</td>\n      <td>...</td>\n      <td>C005</td>\n      <td>13.5</td>\n      <td>22.0</td>\n      <td>20.0</td>\n      <td>cluster_5</td>\n      <td>H01</td>\n      <td>H0105</td>\n      <td>H010501</td>\n      <td>H01050100</td>\n      <td>H0105010006</td>\n    </tr>\n    <tr>\n      <th>2</th>\n      <td>P0001</td>\n      <td>S0013</td>\n      <td>2017-01-02</td>\n      <td>2.0</td>\n      <td>10.59</td>\n      <td>0.0</td>\n      <td>6.25</td>\n      <td>PR14</td>\n      <td>NaN</td>\n      <td>PR03</td>\n      <td>...</td>\n      <td>C026</td>\n      <td>13.5</td>\n      <td>22.0</td>\n      <td>20.0</td>\n      <td>cluster_5</td>\n      <td>H01</td>\n      <td>H0105</td>\n      <td>H010501</td>\n      <td>H01050100</td>\n      <td>H0105010006</td>\n    </tr>\n    <tr>\n      <th>3</th>\n      <td>P0001</td>\n      <td>S0023</td>\n      <td>2017-01-02</td>\n      <td>0.0</td>\n      <td>0.00</td>\n      <td>6.0</td>\n      <td>6.25</td>\n      <td>PR14</td>\n      <td>NaN</td>\n      <td>PR03</td>\n      <td>...</td>\n      <td>C008</td>\n      <td>13.5</td>\n      <td>22.0</td>\n      <td>20.0</td>\n      <td>cluster_5</td>\n      <td>H01</td>\n      <td>H0105</td>\n      <td>H010501</td>\n      <td>H01050100</td>\n      <td>H0105010006</td>\n    </tr>\n    <tr>\n      <th>4</th>\n      <td>P0001</td>\n      <td>S0025</td>\n      <td>2017-01-02</td>\n      <td>0.0</td>\n      <td>0.00</td>\n      <td>1.0</td>\n      <td>6.25</td>\n      <td>PR14</td>\n      <td>NaN</td>\n      <td>PR03</td>\n      <td>...</td>\n      <td>C024</td>\n      <td>13.5</td>\n      <td>22.0</td>\n      <td>20.0</td>\n      <td>cluster_5</td>\n      <td>H01</td>\n      <td>H0105</td>\n      <td>H010501</td>\n      <td>H01050100</td>\n      <td>H0105010006</td>\n    </tr>\n  </tbody>\n</table>\n<p>5 rows × 25 columns</p>\n</div>"
     },
     "metadata": {},
     "output_type": "display_data"
    },
    {
     "data": {
      "text/plain": "<AxesSubplot:xlabel='date'>"
     },
     "execution_count": 11,
     "metadata": {},
     "output_type": "execute_result"
    },
    {
     "data": {
      "text/plain": "<Figure size 432x288 with 1 Axes>",
      "image/png": "[encoded data removed]"
     },
     "metadata": {
      "needs_background": "light"
     },
     "output_type": "display_data"
    }
   ],
   "source": [
    "df_stores = pd.read_csv('../dataset/turkish_retail_data/store_cities.csv',\n",
    "                        delimiter=',',\n",
    "                        dtype={'store_id':'category',\n",
    "                               'storetype_id':'category',\n",
    "                               'city_id':'category'})\n",
    "df_sales = pd.read_csv('../dataset/turkish_retail_data/sales.csv',\n",
    "                       delimiter=',',\n",
    "                       dtype={\"product_id\":\"category\",\n",
    "                              \"store_id\":\"category\",\n",
    "                              \"promo_type_1\":\"category\",\n",
    "                              \"promo_bin_1\":\"category\",\n",
    "                              \"promo_type_2\":\"category\",\n",
    "                              \"promo_bin_2\":\"category\",\n",
    "                              \"promo_discount_2\":\"category\",\n",
    "                              \"promo_discount_type_2\":\"category\"},\n",
    "                       parse_dates=[\"date\"])\n",
    "df_product_hierachy = pd.read_csv('../dataset/turkish_retail_data/product_hierarchy.csv',\n",
    "                                 delimiter= ',',\n",
    "                                 dtype={'product_id':'category',\n",
    "                                        'cluster_id':'category',\n",
    "                                        'hierarchy1_id':'category',\n",
    "                                        'hierarchy2_id':'category',\n",
    "                                        'hierarchy3_id':'category',\n",
    "                                        'hierarchy4_id':'category',\n",
    "                                        'hierarchy5_id':'category'})\n",
    "\n",
    "df_sales = df_sales.join(df_stores.set_index('store_id'), on = 'store_id')\n",
    "df_sales = df_sales.join(df_product_hierachy.set_index('product_id'), on='product_id')\n",
    "display(df_sales.head())\n",
    "\n",
    "ts_global_sales = df_sales.groupby(by=['date'])['sales'].sum()\n",
    "\n",
    "ts_global_sales.plot()\n",
    "plt.show()"
   ]
  },
  {
   "cell_type": "markdown",
   "source": [
    "## Transform into time series"
   ],
   "metadata": {
    "collapsed": false,
    "pycharm": {
     "name": "#%% md\n"
    }
   }
  },
  {
   "cell_type": "code",
   "execution_count": null,
   "outputs": [],
   "source": [
    "ts_global_sales = TimeS"
   ],
   "metadata": {
    "collapsed": false,
    "pycharm": {
     "name": "#%%\n"
    }
   }
  }
 ],
 "metadata": {
  "kernelspec": {
   "display_name": "Python 3 (ipykernel)",
   "language": "python",
   "name": "python3"
  },
  "language_info": {
   "codemirror_mode": {
    "name": "ipython",
    "version": 3
   },
   "file_extension": ".py",
   "mimetype": "text/x-python",
   "name": "python",
   "nbconvert_exporter": "python",
   "pygments_lexer": "ipython3",
   "version": "3.10.0"
  }
 },
 "nbformat": 4,
 "nbformat_minor": 1
}