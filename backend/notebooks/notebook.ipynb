{
 "cells": [
  {
   "cell_type": "markdown",
   "metadata": {},
   "source": [
    "# SAP Challenge Notebook\n",
    "\n",
    "\n",
    "## Imports"
   ]
  },
  {
   "cell_type": "code",
   "execution_count": 2,
   "metadata": {},
   "outputs": [],
   "source": [
    "import pandas as pd\n",
    "from matplotlib import pyplot as plt"
   ]
  },
  {
   "cell_type": "markdown",
   "metadata": {},
   "source": [
    "## Load Data Set"
   ]
  },
  {
   "cell_type": "code",
   "execution_count": 6,
   "metadata": {},
   "outputs": [
    {
     "data": {
      "text/plain": "       store_size\ncount  144.000000\nmean    23.847222\nstd     13.040185\nmin      6.000000\n25%     15.000000\n50%     19.500000\n75%     28.250000\nmax     86.000000",
      "text/html": "<div>\n<style scoped>\n    .dataframe tbody tr th:only-of-type {\n        vertical-align: middle;\n    }\n\n    .dataframe tbody tr th {\n        vertical-align: top;\n    }\n\n    .dataframe thead th {\n        text-align: right;\n    }\n</style>\n<table border=\"1\" class=\"dataframe\">\n  <thead>\n    <tr style=\"text-align: right;\">\n      <th></th>\n      <th>store_size</th>\n    </tr>\n  </thead>\n  <tbody>\n    <tr>\n      <th>count</th>\n      <td>144.000000</td>\n    </tr>\n    <tr>\n      <th>mean</th>\n      <td>23.847222</td>\n    </tr>\n    <tr>\n      <th>std</th>\n      <td>13.040185</td>\n    </tr>\n    <tr>\n      <th>min</th>\n      <td>6.000000</td>\n    </tr>\n    <tr>\n      <th>25%</th>\n      <td>15.000000</td>\n    </tr>\n    <tr>\n      <th>50%</th>\n      <td>19.500000</td>\n    </tr>\n    <tr>\n      <th>75%</th>\n      <td>28.250000</td>\n    </tr>\n    <tr>\n      <th>max</th>\n      <td>86.000000</td>\n    </tr>\n  </tbody>\n</table>\n</div>"
     },
     "metadata": {},
     "output_type": "display_data"
    },
    {
     "data": {
      "text/plain": "              sales       revenue         stock         price\ncount  1.826408e+07  1.826408e+07  1.826408e+07  1.888286e+07\nmean   4.361900e-01  2.064174e+00  1.588102e+01  1.558334e+01\nstd    1.466364e+01  3.989569e+01  3.728009e+01  3.229611e+01\nmin    0.000000e+00  0.000000e+00  0.000000e+00  1.000000e-02\n25%    0.000000e+00  0.000000e+00  4.000000e+00  3.350000e+00\n50%    0.000000e+00  0.000000e+00  8.000000e+00  7.950000e+00\n75%    0.000000e+00  0.000000e+00  1.700000e+01  1.690000e+01\nmax    4.330100e+04  8.419796e+04  4.716000e+03  1.599000e+03",
      "text/html": "<div>\n<style scoped>\n    .dataframe tbody tr th:only-of-type {\n        vertical-align: middle;\n    }\n\n    .dataframe tbody tr th {\n        vertical-align: top;\n    }\n\n    .dataframe thead th {\n        text-align: right;\n    }\n</style>\n<table border=\"1\" class=\"dataframe\">\n  <thead>\n    <tr style=\"text-align: right;\">\n      <th></th>\n      <th>sales</th>\n      <th>revenue</th>\n      <th>stock</th>\n      <th>price</th>\n    </tr>\n  </thead>\n  <tbody>\n    <tr>\n      <th>count</th>\n      <td>1.826408e+07</td>\n      <td>1.826408e+07</td>\n      <td>1.826408e+07</td>\n      <td>1.888286e+07</td>\n    </tr>\n    <tr>\n      <th>mean</th>\n      <td>4.361900e-01</td>\n      <td>2.064174e+00</td>\n      <td>1.588102e+01</td>\n      <td>1.558334e+01</td>\n    </tr>\n    <tr>\n      <th>std</th>\n      <td>1.466364e+01</td>\n      <td>3.989569e+01</td>\n      <td>3.728009e+01</td>\n      <td>3.229611e+01</td>\n    </tr>\n    <tr>\n      <th>min</th>\n      <td>0.000000e+00</td>\n      <td>0.000000e+00</td>\n      <td>0.000000e+00</td>\n      <td>1.000000e-02</td>\n    </tr>\n    <tr>\n      <th>25%</th>\n      <td>0.000000e+00</td>\n      <td>0.000000e+00</td>\n      <td>4.000000e+00</td>\n      <td>3.350000e+00</td>\n    </tr>\n    <tr>\n      <th>50%</th>\n      <td>0.000000e+00</td>\n      <td>0.000000e+00</td>\n      <td>8.000000e+00</td>\n      <td>7.950000e+00</td>\n    </tr>\n    <tr>\n      <th>75%</th>\n      <td>0.000000e+00</td>\n      <td>0.000000e+00</td>\n      <td>1.700000e+01</td>\n      <td>1.690000e+01</td>\n    </tr>\n    <tr>\n      <th>max</th>\n      <td>4.330100e+04</td>\n      <td>8.419796e+04</td>\n      <td>4.716000e+03</td>\n      <td>1.599000e+03</td>\n    </tr>\n  </tbody>\n</table>\n</div>"
     },
     "metadata": {},
     "output_type": "display_data"
    },
    {
     "data": {
      "text/plain": "       product_length  product_depth  product_width\ncount      681.000000     683.000000     683.000000\nmean         7.232305      18.460908      13.454758\nstd          8.512507      14.269750      10.137132\nmin          0.000000       0.000000       0.000000\n25%          3.000000      10.900000       7.450000\n50%          5.000000      17.000000      10.800000\n75%          8.000000      23.150000      16.000000\nmax        100.000000     165.000000     100.000000",
      "text/html": "<div>\n<style scoped>\n    .dataframe tbody tr th:only-of-type {\n        vertical-align: middle;\n    }\n\n    .dataframe tbody tr th {\n        vertical-align: top;\n    }\n\n    .dataframe thead th {\n        text-align: right;\n    }\n</style>\n<table border=\"1\" class=\"dataframe\">\n  <thead>\n    <tr style=\"text-align: right;\">\n      <th></th>\n      <th>product_length</th>\n      <th>product_depth</th>\n      <th>product_width</th>\n    </tr>\n  </thead>\n  <tbody>\n    <tr>\n      <th>count</th>\n      <td>681.000000</td>\n      <td>683.000000</td>\n      <td>683.000000</td>\n    </tr>\n    <tr>\n      <th>mean</th>\n      <td>7.232305</td>\n      <td>18.460908</td>\n      <td>13.454758</td>\n    </tr>\n    <tr>\n      <th>std</th>\n      <td>8.512507</td>\n      <td>14.269750</td>\n      <td>10.137132</td>\n    </tr>\n    <tr>\n      <th>min</th>\n      <td>0.000000</td>\n      <td>0.000000</td>\n      <td>0.000000</td>\n    </tr>\n    <tr>\n      <th>25%</th>\n      <td>3.000000</td>\n      <td>10.900000</td>\n      <td>7.450000</td>\n    </tr>\n    <tr>\n      <th>50%</th>\n      <td>5.000000</td>\n      <td>17.000000</td>\n      <td>10.800000</td>\n    </tr>\n    <tr>\n      <th>75%</th>\n      <td>8.000000</td>\n      <td>23.150000</td>\n      <td>16.000000</td>\n    </tr>\n    <tr>\n      <th>max</th>\n      <td>100.000000</td>\n      <td>165.000000</td>\n      <td>100.000000</td>\n    </tr>\n  </tbody>\n</table>\n</div>"
     },
     "metadata": {},
     "output_type": "display_data"
    },
    {
     "data": {
      "text/plain": "       store_size\ncount  144.000000\nmean    23.847222\nstd     13.040185\nmin      6.000000\n25%     15.000000\n50%     19.500000\n75%     28.250000\nmax     86.000000",
      "text/html": "<div>\n<style scoped>\n    .dataframe tbody tr th:only-of-type {\n        vertical-align: middle;\n    }\n\n    .dataframe tbody tr th {\n        vertical-align: top;\n    }\n\n    .dataframe thead th {\n        text-align: right;\n    }\n</style>\n<table border=\"1\" class=\"dataframe\">\n  <thead>\n    <tr style=\"text-align: right;\">\n      <th></th>\n      <th>store_size</th>\n    </tr>\n  </thead>\n  <tbody>\n    <tr>\n      <th>count</th>\n      <td>144.000000</td>\n    </tr>\n    <tr>\n      <th>mean</th>\n      <td>23.847222</td>\n    </tr>\n    <tr>\n      <th>std</th>\n      <td>13.040185</td>\n    </tr>\n    <tr>\n      <th>min</th>\n      <td>6.000000</td>\n    </tr>\n    <tr>\n      <th>25%</th>\n      <td>15.000000</td>\n    </tr>\n    <tr>\n      <th>50%</th>\n      <td>19.500000</td>\n    </tr>\n    <tr>\n      <th>75%</th>\n      <td>28.250000</td>\n    </tr>\n    <tr>\n      <th>max</th>\n      <td>86.000000</td>\n    </tr>\n  </tbody>\n</table>\n</div>"
     },
     "metadata": {},
     "output_type": "display_data"
    },
    {
     "data": {
      "text/plain": "              sales       revenue         stock         price\ncount  1.826408e+07  1.826408e+07  1.826408e+07  1.888286e+07\nmean   4.361900e-01  2.064174e+00  1.588102e+01  1.558334e+01\nstd    1.466364e+01  3.989569e+01  3.728009e+01  3.229611e+01\nmin    0.000000e+00  0.000000e+00  0.000000e+00  1.000000e-02\n25%    0.000000e+00  0.000000e+00  4.000000e+00  3.350000e+00\n50%    0.000000e+00  0.000000e+00  8.000000e+00  7.950000e+00\n75%    0.000000e+00  0.000000e+00  1.700000e+01  1.690000e+01\nmax    4.330100e+04  8.419796e+04  4.716000e+03  1.599000e+03",
      "text/html": "<div>\n<style scoped>\n    .dataframe tbody tr th:only-of-type {\n        vertical-align: middle;\n    }\n\n    .dataframe tbody tr th {\n        vertical-align: top;\n    }\n\n    .dataframe thead th {\n        text-align: right;\n    }\n</style>\n<table border=\"1\" class=\"dataframe\">\n  <thead>\n    <tr style=\"text-align: right;\">\n      <th></th>\n      <th>sales</th>\n      <th>revenue</th>\n      <th>stock</th>\n      <th>price</th>\n    </tr>\n  </thead>\n  <tbody>\n    <tr>\n      <th>count</th>\n      <td>1.826408e+07</td>\n      <td>1.826408e+07</td>\n      <td>1.826408e+07</td>\n      <td>1.888286e+07</td>\n    </tr>\n    <tr>\n      <th>mean</th>\n      <td>4.361900e-01</td>\n      <td>2.064174e+00</td>\n      <td>1.588102e+01</td>\n      <td>1.558334e+01</td>\n    </tr>\n    <tr>\n      <th>std</th>\n      <td>1.466364e+01</td>\n      <td>3.989569e+01</td>\n      <td>3.728009e+01</td>\n      <td>3.229611e+01</td>\n    </tr>\n    <tr>\n      <th>min</th>\n      <td>0.000000e+00</td>\n      <td>0.000000e+00</td>\n      <td>0.000000e+00</td>\n      <td>1.000000e-02</td>\n    </tr>\n    <tr>\n      <th>25%</th>\n      <td>0.000000e+00</td>\n      <td>0.000000e+00</td>\n      <td>4.000000e+00</td>\n      <td>3.350000e+00</td>\n    </tr>\n    <tr>\n      <th>50%</th>\n      <td>0.000000e+00</td>\n      <td>0.000000e+00</td>\n      <td>8.000000e+00</td>\n      <td>7.950000e+00</td>\n    </tr>\n    <tr>\n      <th>75%</th>\n      <td>0.000000e+00</td>\n      <td>0.000000e+00</td>\n      <td>1.700000e+01</td>\n      <td>1.690000e+01</td>\n    </tr>\n    <tr>\n      <th>max</th>\n      <td>4.330100e+04</td>\n      <td>8.419796e+04</td>\n      <td>4.716000e+03</td>\n      <td>1.599000e+03</td>\n    </tr>\n  </tbody>\n</table>\n</div>"
     },
     "metadata": {},
     "output_type": "display_data"
    },
    {
     "data": {
      "text/plain": "       product_length  product_depth  product_width\ncount      681.000000     683.000000     683.000000\nmean         7.232305      18.460908      13.454758\nstd          8.512507      14.269750      10.137132\nmin          0.000000       0.000000       0.000000\n25%          3.000000      10.900000       7.450000\n50%          5.000000      17.000000      10.800000\n75%          8.000000      23.150000      16.000000\nmax        100.000000     165.000000     100.000000",
      "text/html": "<div>\n<style scoped>\n    .dataframe tbody tr th:only-of-type {\n        vertical-align: middle;\n    }\n\n    .dataframe tbody tr th {\n        vertical-align: top;\n    }\n\n    .dataframe thead th {\n        text-align: right;\n    }\n</style>\n<table border=\"1\" class=\"dataframe\">\n  <thead>\n    <tr style=\"text-align: right;\">\n      <th></th>\n      <th>product_length</th>\n      <th>product_depth</th>\n      <th>product_width</th>\n    </tr>\n  </thead>\n  <tbody>\n    <tr>\n      <th>count</th>\n      <td>681.000000</td>\n      <td>683.000000</td>\n      <td>683.000000</td>\n    </tr>\n    <tr>\n      <th>mean</th>\n      <td>7.232305</td>\n      <td>18.460908</td>\n      <td>13.454758</td>\n    </tr>\n    <tr>\n      <th>std</th>\n      <td>8.512507</td>\n      <td>14.269750</td>\n      <td>10.137132</td>\n    </tr>\n    <tr>\n      <th>min</th>\n      <td>0.000000</td>\n      <td>0.000000</td>\n      <td>0.000000</td>\n    </tr>\n    <tr>\n      <th>25%</th>\n      <td>3.000000</td>\n      <td>10.900000</td>\n      <td>7.450000</td>\n    </tr>\n    <tr>\n      <th>50%</th>\n      <td>5.000000</td>\n      <td>17.000000</td>\n      <td>10.800000</td>\n    </tr>\n    <tr>\n      <th>75%</th>\n      <td>8.000000</td>\n      <td>23.150000</td>\n      <td>16.000000</td>\n    </tr>\n    <tr>\n      <th>max</th>\n      <td>100.000000</td>\n      <td>165.000000</td>\n      <td>100.000000</td>\n    </tr>\n  </tbody>\n</table>\n</div>"
     },
     "metadata": {},
     "output_type": "display_data"
    }
   ],
   "source": [
    "df_stores = pd.read_csv('../dataset/turkish_retail_data/store_cities.csv',\n",
    "                        delimiter=',',\n",
    "                        dtype={'store_id':'category',\n",
    "                               'storetype_id':'category',\n",
    "                               'city_id':'category'})\n",
    "df_sales = pd.read_csv('../dataset/turkish_retail_data/sales.csv',\n",
    "                       delimiter=',',\n",
    "                       dtype={\"product_id\":\"category\",\n",
    "                              \"store_id\":\"category\",\n",
    "                              \"promo_type_1\":\"category\",\n",
    "                              \"promo_bin_1\":\"category\",\n",
    "                              \"promo_type_2\":\"category\",\n",
    "                              \"promo_bin_2\":\"category\",\n",
    "                              \"promo_discount_2\":\"category\",\n",
    "                              \"promo_discount_type_2\":\"category\"},\n",
    "                       parse_dates=[\"date\"])\n",
    "df_product_hierachy = pd.read_csv('../dataset/turkish_retail_data/product_hierarchy.csv',\n",
    "                                 delimiter= ',',\n",
    "                                 dtype={'product_id':'category',\n",
    "                                        'cluster_id':'category',\n",
    "                                        'hierarchy1_id':'category',\n",
    "                                        'hierarchy2_id':'category',\n",
    "                                        'hierarchy3_id':'category',\n",
    "                                        'hierarchy4_id':'category',\n",
    "                                        'hierarchy5_id':'category'})\n",
    "\n",
    "display(df_stores.describe())\n",
    "display(df_sales.describe())\n",
    "display(df_product_hierachy.describe())\n"
   ]
  },
  {
   "cell_type": "markdown",
   "source": [
    "## Transform into time series"
   ],
   "metadata": {
    "collapsed": false,
    "pycharm": {
     "name": "#%% md\n"
    }
   }
  },
  {
   "cell_type": "code",
   "execution_count": null,
   "outputs": [],
   "source": [],
   "metadata": {
    "collapsed": false,
    "pycharm": {
     "name": "#%%\n"
    }
   }
  }
 ],
 "metadata": {
  "kernelspec": {
   "display_name": "Python 3 (ipykernel)",
   "language": "python",
   "name": "python3"
  },
  "language_info": {
   "codemirror_mode": {
    "name": "ipython",
    "version": 3
   },
   "file_extension": ".py",
   "mimetype": "text/x-python",
   "name": "python",
   "nbconvert_exporter": "python",
   "pygments_lexer": "ipython3",
   "version": "3.10.0"
  }
 },
 "nbformat": 4,
 "nbformat_minor": 1
}